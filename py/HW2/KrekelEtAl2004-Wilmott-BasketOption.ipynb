{
 "cells": [
  {
   "cell_type": "markdown",
   "metadata": {},
   "source": [
    "# KrekelEtAl2004-Wilmott-BasketOption"
   ]
  },
  {
   "cell_type": "markdown",
   "metadata": {},
   "source": [
    "### Paper Information\n",
    "Krekel, M., de Kock, J., Korn, R., & Man, T.-K. (2004). __An analysis of pricing methods for basket options__. Wilmott Magazine, 2004(7), 82–89.\n",
    "\n",
    "### Abstract\n",
    "This paper deals with the task of pricing basket options. Here, the main problem is not path-dependency but the multi-dimensionality which makes it impossible to give exact analytical representations of the option price. We review the literature and compare six different methods in a systematic way. Thereby we also look at the influence of various parameters such as strike, correlation, forwards or volatilities on the performance of the different approximations.\n",
    "\n",
    "### Keywords and Phrases\n",
    "Exotic options, basket options, numerical methods"
   ]
  },
  {
   "cell_type": "markdown",
   "metadata": {},
   "source": [
    "## Note\n",
    "* `Levy`, `MP-RG`, and `MP-4M` methods are currently available"
   ]
  },
  {
   "cell_type": "code",
   "execution_count": 1,
   "metadata": {},
   "outputs": [],
   "source": [
    "%load_ext autoreload\n",
    "%autoreload 2"
   ]
  },
  {
   "cell_type": "code",
   "execution_count": 2,
   "metadata": {},
   "outputs": [],
   "source": [
    "import numpy as np\n",
    "import pandas as pd\n",
    "import os\n",
    "\n",
    "### Uncomment below if you want to run on your own modified code\n",
    "#import sys\n",
    "#sys.path.insert(sys.path.index('')+1, 'D:/Github/PyFENG')\n",
    "import pyfeng as pf"
   ]
  },
  {
   "cell_type": "code",
   "execution_count": 3,
   "metadata": {},
   "outputs": [],
   "source": [
    "texp = 5\n",
    "rho = 0.5\n",
    "o4 = np.ones(4)\n",
    "sigma = o4 * 0.4\n",
    "file = 'KrekelEtAl2004-Wilmott-BasketOption.xlsx'"
   ]
  },
  {
   "cell_type": "markdown",
   "metadata": {},
   "source": [
    "# Table 1\n",
    "## Changing Correlation"
   ]
  },
  {
   "cell_type": "code",
   "execution_count": 4,
   "metadata": {},
   "outputs": [
    {
     "data": {
      "text/html": [
       "<div>\n",
       "<style scoped>\n",
       "    .dataframe tbody tr th:only-of-type {\n",
       "        vertical-align: middle;\n",
       "    }\n",
       "\n",
       "    .dataframe tbody tr th {\n",
       "        vertical-align: top;\n",
       "    }\n",
       "\n",
       "    .dataframe thead th {\n",
       "        text-align: right;\n",
       "    }\n",
       "</style>\n",
       "<table border=\"1\" class=\"dataframe\">\n",
       "  <thead>\n",
       "    <tr style=\"text-align: right;\">\n",
       "      <th></th>\n",
       "      <th>Cor</th>\n",
       "      <th>Beisser</th>\n",
       "      <th>Gentle</th>\n",
       "      <th>Ju</th>\n",
       "      <th>Levy</th>\n",
       "      <th>MP-RG</th>\n",
       "      <th>MP-4M</th>\n",
       "      <th>MC-CV</th>\n",
       "      <th>StdDEv</th>\n",
       "      <th>Exact</th>\n",
       "    </tr>\n",
       "  </thead>\n",
       "  <tbody>\n",
       "    <tr>\n",
       "      <th>0</th>\n",
       "      <td>0.10</td>\n",
       "      <td>20.12</td>\n",
       "      <td>15.36</td>\n",
       "      <td>21.77</td>\n",
       "      <td>22.06</td>\n",
       "      <td>20.25</td>\n",
       "      <td>21.36</td>\n",
       "      <td>21.62</td>\n",
       "      <td>0.0319</td>\n",
       "      <td>21.6921</td>\n",
       "    </tr>\n",
       "    <tr>\n",
       "      <th>1</th>\n",
       "      <td>0.30</td>\n",
       "      <td>24.21</td>\n",
       "      <td>19.62</td>\n",
       "      <td>25.05</td>\n",
       "      <td>25.17</td>\n",
       "      <td>22.54</td>\n",
       "      <td>24.91</td>\n",
       "      <td>24.97</td>\n",
       "      <td>0.0249</td>\n",
       "      <td>25.0293</td>\n",
       "    </tr>\n",
       "    <tr>\n",
       "      <th>2</th>\n",
       "      <td>0.50</td>\n",
       "      <td>27.63</td>\n",
       "      <td>23.78</td>\n",
       "      <td>28.01</td>\n",
       "      <td>28.05</td>\n",
       "      <td>24.50</td>\n",
       "      <td>27.98</td>\n",
       "      <td>27.97</td>\n",
       "      <td>0.0187</td>\n",
       "      <td>28.0074</td>\n",
       "    </tr>\n",
       "    <tr>\n",
       "      <th>3</th>\n",
       "      <td>0.70</td>\n",
       "      <td>30.62</td>\n",
       "      <td>27.98</td>\n",
       "      <td>30.74</td>\n",
       "      <td>30.75</td>\n",
       "      <td>26.18</td>\n",
       "      <td>30.74</td>\n",
       "      <td>30.72</td>\n",
       "      <td>0.0123</td>\n",
       "      <td>30.7427</td>\n",
       "    </tr>\n",
       "    <tr>\n",
       "      <th>4</th>\n",
       "      <td>0.80</td>\n",
       "      <td>31.99</td>\n",
       "      <td>30.13</td>\n",
       "      <td>32.04</td>\n",
       "      <td>32.04</td>\n",
       "      <td>26.93</td>\n",
       "      <td>32.04</td>\n",
       "      <td>32.03</td>\n",
       "      <td>0.0087</td>\n",
       "      <td>32.0412</td>\n",
       "    </tr>\n",
       "    <tr>\n",
       "      <th>5</th>\n",
       "      <td>0.95</td>\n",
       "      <td>33.92</td>\n",
       "      <td>33.41</td>\n",
       "      <td>33.92</td>\n",
       "      <td>33.92</td>\n",
       "      <td>27.97</td>\n",
       "      <td>33.92</td>\n",
       "      <td>33.92</td>\n",
       "      <td>0.0024</td>\n",
       "      <td>33.9187</td>\n",
       "    </tr>\n",
       "  </tbody>\n",
       "</table>\n",
       "</div>"
      ],
      "text/plain": [
       "    Cor  Beisser  Gentle     Ju   Levy  MP-RG  MP-4M  MC-CV  StdDEv    Exact\n",
       "0  0.10    20.12   15.36  21.77  22.06  20.25  21.36  21.62  0.0319  21.6921\n",
       "1  0.30    24.21   19.62  25.05  25.17  22.54  24.91  24.97  0.0249  25.0293\n",
       "2  0.50    27.63   23.78  28.01  28.05  24.50  27.98  27.97  0.0187  28.0074\n",
       "3  0.70    30.62   27.98  30.74  30.75  26.18  30.74  30.72  0.0123  30.7427\n",
       "4  0.80    31.99   30.13  32.04  32.04  26.93  32.04  32.03  0.0087  32.0412\n",
       "5  0.95    33.92   33.41  33.92  33.92  27.97  33.92  33.92  0.0024  33.9187"
      ]
     },
     "execution_count": 4,
     "metadata": {},
     "output_type": "execute_result"
    }
   ],
   "source": [
    "df = pd.read_excel(file, sheet_name='1')\n",
    "df"
   ]
  },
  {
   "cell_type": "code",
   "execution_count": 5,
   "metadata": {},
   "outputs": [
    {
     "data": {
      "text/plain": [
       "(array([20.12, 24.21, 27.63, 30.62, 31.99, 33.92]),\n",
       " array([0., 0., 0., 0., 0., 0.]))"
      ]
     },
     "execution_count": 5,
     "metadata": {},
     "output_type": "execute_result"
    }
   ],
   "source": [
    "rhos = [0.1, 0.3, 0.5, 0.7, 0.8, 0.95]\n",
    "result = np.zeros_like(rhos)\n",
    "for k in range(len(rhos)):\n",
    "    m = pf.BsmBasketLowerBound(sigma=sigma, cor=rhos[k])\n",
    "    result[k] = np.round(m.price(100, 100*o4, texp), 2)\n",
    "np.round(result, 2), np.round(result, 2) - df['Beisser'].values"
   ]
  },
  {
   "cell_type": "code",
   "execution_count": 6,
   "metadata": {},
   "outputs": [
    {
     "data": {
      "text/plain": [
       "(array([22.06, 25.17, 28.05, 30.75, 32.04, 33.92]),\n",
       " array([0., 0., 0., 0., 0., 0.]))"
      ]
     },
     "execution_count": 6,
     "metadata": {},
     "output_type": "execute_result"
    }
   ],
   "source": [
    "rhos = [0.1, 0.3, 0.5, 0.7, 0.8, 0.95]\n",
    "result = np.zeros_like(rhos)\n",
    "for k in range(len(rhos)):\n",
    "    m = pf.BsmBasketLevy1992(sigma=sigma, cor=rhos[k])\n",
    "    result[k] = np.round(m.price(100, 100*o4, texp), 2)\n",
    "np.round(result, 2), np.round(result, 2) - df['Levy'].values"
   ]
  },
  {
   "cell_type": "code",
   "execution_count": 7,
   "metadata": {},
   "outputs": [
    {
     "data": {
      "text/plain": [
       "(array([20.25, 22.54, 24.5 , 26.18, 26.93, 27.97]),\n",
       " array([0., 0., 0., 0., 0., 0.]))"
      ]
     },
     "execution_count": 7,
     "metadata": {},
     "output_type": "execute_result"
    }
   ],
   "source": [
    "rhos = [0.1, 0.3, 0.5, 0.7, 0.8, 0.95]\n",
    "result = np.zeros_like(rhos)\n",
    "for k in range(len(rhos)):\n",
    "    m = pf.BsmBasketMilevsky1998(sigma=sigma, cor=rhos[k])\n",
    "    result[k] = np.round(m.price(100, 100*o4, texp), 2)\n",
    "np.round(result, 2), np.round(result, 2) - df['MP-RG'].values"
   ]
  },
  {
   "cell_type": "code",
   "execution_count": 8,
   "metadata": {},
   "outputs": [
    {
     "data": {
      "text/plain": [
       "(array([21.36, 24.91, 27.98, 30.74, 32.04, 33.92]),\n",
       " array([0., 0., 0., 0., 0., 0.]))"
      ]
     },
     "execution_count": 8,
     "metadata": {},
     "output_type": "execute_result"
    }
   ],
   "source": [
    "rhos = [0.1, 0.3, 0.5, 0.7, 0.8, 0.95]\n",
    "result = np.zeros_like(rhos)\n",
    "for k in range(len(rhos)):\n",
    "    m = pf.BsmBasketJsu(sigma=sigma, cor=rhos[k])\n",
    "    result[k] = np.round(m.price(100, 100*o4, texp), 2)\n",
    "np.round(result, 2), np.round(result, 2) - df['MP-4M'].values"
   ]
  },
  {
   "cell_type": "markdown",
   "metadata": {},
   "source": [
    "# Table 2\n",
    "## Changing Strike"
   ]
  },
  {
   "cell_type": "code",
   "execution_count": 9,
   "metadata": {},
   "outputs": [
    {
     "data": {
      "text/html": [
       "<div>\n",
       "<style scoped>\n",
       "    .dataframe tbody tr th:only-of-type {\n",
       "        vertical-align: middle;\n",
       "    }\n",
       "\n",
       "    .dataframe tbody tr th {\n",
       "        vertical-align: top;\n",
       "    }\n",
       "\n",
       "    .dataframe thead th {\n",
       "        text-align: right;\n",
       "    }\n",
       "</style>\n",
       "<table border=\"1\" class=\"dataframe\">\n",
       "  <thead>\n",
       "    <tr style=\"text-align: right;\">\n",
       "      <th></th>\n",
       "      <th>K</th>\n",
       "      <th>Beisser</th>\n",
       "      <th>Gentle</th>\n",
       "      <th>Ju</th>\n",
       "      <th>Levy</th>\n",
       "      <th>MP-RG</th>\n",
       "      <th>MP-4M</th>\n",
       "      <th>MC-CV</th>\n",
       "      <th>StdDev</th>\n",
       "      <th>Exact</th>\n",
       "    </tr>\n",
       "  </thead>\n",
       "  <tbody>\n",
       "    <tr>\n",
       "      <th>0</th>\n",
       "      <td>50</td>\n",
       "      <td>54.16</td>\n",
       "      <td>51.99</td>\n",
       "      <td>54.31</td>\n",
       "      <td>54.34</td>\n",
       "      <td>51.93</td>\n",
       "      <td>54.35</td>\n",
       "      <td>54.28</td>\n",
       "      <td>0.0383</td>\n",
       "      <td>54.3102</td>\n",
       "    </tr>\n",
       "    <tr>\n",
       "      <th>1</th>\n",
       "      <td>60</td>\n",
       "      <td>47.27</td>\n",
       "      <td>44.43</td>\n",
       "      <td>47.48</td>\n",
       "      <td>47.52</td>\n",
       "      <td>44.41</td>\n",
       "      <td>47.50</td>\n",
       "      <td>47.45</td>\n",
       "      <td>0.0375</td>\n",
       "      <td>47.4811</td>\n",
       "    </tr>\n",
       "    <tr>\n",
       "      <th>2</th>\n",
       "      <td>70</td>\n",
       "      <td>41.26</td>\n",
       "      <td>37.93</td>\n",
       "      <td>41.52</td>\n",
       "      <td>41.57</td>\n",
       "      <td>38.01</td>\n",
       "      <td>41.53</td>\n",
       "      <td>41.50</td>\n",
       "      <td>0.0369</td>\n",
       "      <td>41.5225</td>\n",
       "    </tr>\n",
       "    <tr>\n",
       "      <th>3</th>\n",
       "      <td>80</td>\n",
       "      <td>36.04</td>\n",
       "      <td>32.40</td>\n",
       "      <td>36.36</td>\n",
       "      <td>36.40</td>\n",
       "      <td>32.68</td>\n",
       "      <td>36.34</td>\n",
       "      <td>36.52</td>\n",
       "      <td>0.0363</td>\n",
       "      <td>36.3518</td>\n",
       "    </tr>\n",
       "    <tr>\n",
       "      <th>4</th>\n",
       "      <td>90</td>\n",
       "      <td>31.53</td>\n",
       "      <td>27.73</td>\n",
       "      <td>31.88</td>\n",
       "      <td>31.92</td>\n",
       "      <td>28.22</td>\n",
       "      <td>31.86</td>\n",
       "      <td>31.85</td>\n",
       "      <td>0.0356</td>\n",
       "      <td>31.8768</td>\n",
       "    </tr>\n",
       "    <tr>\n",
       "      <th>5</th>\n",
       "      <td>100</td>\n",
       "      <td>27.63</td>\n",
       "      <td>23.78</td>\n",
       "      <td>28.01</td>\n",
       "      <td>28.05</td>\n",
       "      <td>24.50</td>\n",
       "      <td>27.98</td>\n",
       "      <td>27.98</td>\n",
       "      <td>0.0350</td>\n",
       "      <td>28.0074</td>\n",
       "    </tr>\n",
       "    <tr>\n",
       "      <th>6</th>\n",
       "      <td>110</td>\n",
       "      <td>24.27</td>\n",
       "      <td>20.46</td>\n",
       "      <td>24.67</td>\n",
       "      <td>24.70</td>\n",
       "      <td>21.39</td>\n",
       "      <td>24.63</td>\n",
       "      <td>24.63</td>\n",
       "      <td>0.0344</td>\n",
       "      <td>24.6605</td>\n",
       "    </tr>\n",
       "    <tr>\n",
       "      <th>7</th>\n",
       "      <td>120</td>\n",
       "      <td>21.36</td>\n",
       "      <td>17.65</td>\n",
       "      <td>21.77</td>\n",
       "      <td>21.80</td>\n",
       "      <td>18.77</td>\n",
       "      <td>21.73</td>\n",
       "      <td>21.74</td>\n",
       "      <td>0.0338</td>\n",
       "      <td>21.7626</td>\n",
       "    </tr>\n",
       "    <tr>\n",
       "      <th>8</th>\n",
       "      <td>130</td>\n",
       "      <td>18.84</td>\n",
       "      <td>15.27</td>\n",
       "      <td>19.26</td>\n",
       "      <td>19.28</td>\n",
       "      <td>16.57</td>\n",
       "      <td>19.22</td>\n",
       "      <td>19.22</td>\n",
       "      <td>0.0332</td>\n",
       "      <td>19.2493</td>\n",
       "    </tr>\n",
       "    <tr>\n",
       "      <th>9</th>\n",
       "      <td>140</td>\n",
       "      <td>16.65</td>\n",
       "      <td>13.25</td>\n",
       "      <td>17.07</td>\n",
       "      <td>17.10</td>\n",
       "      <td>14.70</td>\n",
       "      <td>17.04</td>\n",
       "      <td>17.05</td>\n",
       "      <td>0.0326</td>\n",
       "      <td>17.0655</td>\n",
       "    </tr>\n",
       "    <tr>\n",
       "      <th>10</th>\n",
       "      <td>150</td>\n",
       "      <td>14.75</td>\n",
       "      <td>11.53</td>\n",
       "      <td>15.17</td>\n",
       "      <td>15.19</td>\n",
       "      <td>13.10</td>\n",
       "      <td>15.14</td>\n",
       "      <td>15.15</td>\n",
       "      <td>0.0320</td>\n",
       "      <td>15.1640</td>\n",
       "    </tr>\n",
       "  </tbody>\n",
       "</table>\n",
       "</div>"
      ],
      "text/plain": [
       "      K  Beisser  Gentle     Ju   Levy  MP-RG  MP-4M  MC-CV  StdDev    Exact\n",
       "0    50    54.16   51.99  54.31  54.34  51.93  54.35  54.28  0.0383  54.3102\n",
       "1    60    47.27   44.43  47.48  47.52  44.41  47.50  47.45  0.0375  47.4811\n",
       "2    70    41.26   37.93  41.52  41.57  38.01  41.53  41.50  0.0369  41.5225\n",
       "3    80    36.04   32.40  36.36  36.40  32.68  36.34  36.52  0.0363  36.3518\n",
       "4    90    31.53   27.73  31.88  31.92  28.22  31.86  31.85  0.0356  31.8768\n",
       "5   100    27.63   23.78  28.01  28.05  24.50  27.98  27.98  0.0350  28.0074\n",
       "6   110    24.27   20.46  24.67  24.70  21.39  24.63  24.63  0.0344  24.6605\n",
       "7   120    21.36   17.65  21.77  21.80  18.77  21.73  21.74  0.0338  21.7626\n",
       "8   130    18.84   15.27  19.26  19.28  16.57  19.22  19.22  0.0332  19.2493\n",
       "9   140    16.65   13.25  17.07  17.10  14.70  17.04  17.05  0.0326  17.0655\n",
       "10  150    14.75   11.53  15.17  15.19  13.10  15.14  15.15  0.0320  15.1640"
      ]
     },
     "execution_count": 9,
     "metadata": {},
     "output_type": "execute_result"
    }
   ],
   "source": [
    "df = pd.read_excel(file, sheet_name='2')\n",
    "df"
   ]
  },
  {
   "cell_type": "code",
   "execution_count": 10,
   "metadata": {},
   "outputs": [
    {
     "data": {
      "text/plain": [
       "(array([54.16, 47.27, 41.26, 36.04, 31.53, 27.63, 24.27, 21.36, 18.84,\n",
       "        16.65, 14.75]),\n",
       " array([0., 0., 0., 0., 0., 0., 0., 0., 0., 0., 0.]))"
      ]
     },
     "execution_count": 10,
     "metadata": {},
     "output_type": "execute_result"
    }
   ],
   "source": [
    "strike = np.arange(50, 151, 10)\n",
    "m = pf.BsmBasketLowerBound(sigma=sigma, cor=0.5)\n",
    "result = m.price(strike, spot=100*o4, texp=texp)\n",
    "np.round(result, 2), np.round(result, 2) - df['Beisser'].values"
   ]
  },
  {
   "cell_type": "code",
   "execution_count": 11,
   "metadata": {},
   "outputs": [
    {
     "data": {
      "text/plain": [
       "(array([54.34, 47.52, 41.57, 36.4 , 31.92, 28.05, 24.7 , 21.8 , 19.28,\n",
       "        17.1 , 15.19]),\n",
       " array([0., 0., 0., 0., 0., 0., 0., 0., 0., 0., 0.]))"
      ]
     },
     "execution_count": 11,
     "metadata": {},
     "output_type": "execute_result"
    }
   ],
   "source": [
    "strike = np.arange(50, 151, 10)\n",
    "m = pf.BsmBasketLevy1992(sigma=sigma, cor=0.5)\n",
    "result = m.price(strike, spot=100*o4, texp=texp)\n",
    "np.round(result, 2), np.round(result, 2) - df['Levy'].values"
   ]
  },
  {
   "cell_type": "code",
   "execution_count": 12,
   "metadata": {},
   "outputs": [
    {
     "data": {
      "text/plain": [
       "(array([51.93, 44.41, 38.03, 32.68, 28.22, 24.5 , 21.39, 18.77, 16.57,\n",
       "        14.7 , 13.1 ]),\n",
       " array([0.  , 0.  , 0.02, 0.  , 0.  , 0.  , 0.  , 0.  , 0.  , 0.  , 0.  ]))"
      ]
     },
     "execution_count": 12,
     "metadata": {},
     "output_type": "execute_result"
    }
   ],
   "source": [
    "m = pf.BsmBasketMilevsky1998(sigma=sigma, cor=0.5)\n",
    "result = m.price(strike, spot=100*o4, texp=texp)\n",
    "np.round(result, 2), np.round(result, 2) - df['MP-RG'].values"
   ]
  },
  {
   "cell_type": "code",
   "execution_count": 13,
   "metadata": {},
   "outputs": [
    {
     "data": {
      "text/plain": [
       "(array([54.35, 47.5 , 41.53, 36.34, 31.86, 27.98, 24.63, 21.73, 19.22,\n",
       "        17.04, 15.14]),\n",
       " array([0., 0., 0., 0., 0., 0., 0., 0., 0., 0., 0.]))"
      ]
     },
     "execution_count": 13,
     "metadata": {},
     "output_type": "execute_result"
    }
   ],
   "source": [
    "m = pf.BsmBasketJsu(sigma=sigma, cor=0.5)\n",
    "result = m.price(strike, spot=100*o4, texp=texp)\n",
    "np.round(result, 2), np.round(result, 2) - df['MP-4M'].values"
   ]
  },
  {
   "cell_type": "markdown",
   "metadata": {},
   "source": [
    "# Table 3\n",
    "## Changing Forward"
   ]
  },
  {
   "cell_type": "code",
   "execution_count": 14,
   "metadata": {},
   "outputs": [
    {
     "data": {
      "text/html": [
       "<div>\n",
       "<style scoped>\n",
       "    .dataframe tbody tr th:only-of-type {\n",
       "        vertical-align: middle;\n",
       "    }\n",
       "\n",
       "    .dataframe tbody tr th {\n",
       "        vertical-align: top;\n",
       "    }\n",
       "\n",
       "    .dataframe thead th {\n",
       "        text-align: right;\n",
       "    }\n",
       "</style>\n",
       "<table border=\"1\" class=\"dataframe\">\n",
       "  <thead>\n",
       "    <tr style=\"text-align: right;\">\n",
       "      <th></th>\n",
       "      <th>F</th>\n",
       "      <th>Beisser</th>\n",
       "      <th>Gentle</th>\n",
       "      <th>Ju</th>\n",
       "      <th>Levy</th>\n",
       "      <th>MP-RG</th>\n",
       "      <th>MP-4M</th>\n",
       "      <th>MC-CV</th>\n",
       "      <th>StdDev</th>\n",
       "    </tr>\n",
       "  </thead>\n",
       "  <tbody>\n",
       "    <tr>\n",
       "      <th>0</th>\n",
       "      <td>50</td>\n",
       "      <td>4.16</td>\n",
       "      <td>3.00</td>\n",
       "      <td>4.34</td>\n",
       "      <td>4.34</td>\n",
       "      <td>3.93</td>\n",
       "      <td>4.33</td>\n",
       "      <td>4.34</td>\n",
       "      <td>0.0141</td>\n",
       "    </tr>\n",
       "    <tr>\n",
       "      <th>1</th>\n",
       "      <td>60</td>\n",
       "      <td>7.27</td>\n",
       "      <td>5.53</td>\n",
       "      <td>7.51</td>\n",
       "      <td>7.52</td>\n",
       "      <td>6.56</td>\n",
       "      <td>7.50</td>\n",
       "      <td>7.50</td>\n",
       "      <td>0.0185</td>\n",
       "    </tr>\n",
       "    <tr>\n",
       "      <th>2</th>\n",
       "      <td>70</td>\n",
       "      <td>11.26</td>\n",
       "      <td>8.91</td>\n",
       "      <td>11.55</td>\n",
       "      <td>11.57</td>\n",
       "      <td>9.95</td>\n",
       "      <td>11.53</td>\n",
       "      <td>11.53</td>\n",
       "      <td>0.0227</td>\n",
       "    </tr>\n",
       "    <tr>\n",
       "      <th>3</th>\n",
       "      <td>80</td>\n",
       "      <td>16.04</td>\n",
       "      <td>13.13</td>\n",
       "      <td>16.37</td>\n",
       "      <td>16.40</td>\n",
       "      <td>14.10</td>\n",
       "      <td>16.34</td>\n",
       "      <td>16.35</td>\n",
       "      <td>0.0268</td>\n",
       "    </tr>\n",
       "    <tr>\n",
       "      <th>4</th>\n",
       "      <td>90</td>\n",
       "      <td>21.53</td>\n",
       "      <td>18.11</td>\n",
       "      <td>21.89</td>\n",
       "      <td>21.92</td>\n",
       "      <td>18.97</td>\n",
       "      <td>21.86</td>\n",
       "      <td>21.86</td>\n",
       "      <td>0.0309</td>\n",
       "    </tr>\n",
       "    <tr>\n",
       "      <th>5</th>\n",
       "      <td>100</td>\n",
       "      <td>27.63</td>\n",
       "      <td>23.78</td>\n",
       "      <td>28.01</td>\n",
       "      <td>28.05</td>\n",
       "      <td>24.50</td>\n",
       "      <td>27.98</td>\n",
       "      <td>27.98</td>\n",
       "      <td>0.0350</td>\n",
       "    </tr>\n",
       "    <tr>\n",
       "      <th>6</th>\n",
       "      <td>110</td>\n",
       "      <td>34.27</td>\n",
       "      <td>30.08</td>\n",
       "      <td>34.66</td>\n",
       "      <td>34.70</td>\n",
       "      <td>30.63</td>\n",
       "      <td>34.63</td>\n",
       "      <td>34.63</td>\n",
       "      <td>0.0391</td>\n",
       "    </tr>\n",
       "    <tr>\n",
       "      <th>7</th>\n",
       "      <td>120</td>\n",
       "      <td>41.36</td>\n",
       "      <td>36.91</td>\n",
       "      <td>41.75</td>\n",
       "      <td>41.80</td>\n",
       "      <td>37.32</td>\n",
       "      <td>41.73</td>\n",
       "      <td>41.71</td>\n",
       "      <td>0.0433</td>\n",
       "    </tr>\n",
       "    <tr>\n",
       "      <th>8</th>\n",
       "      <td>130</td>\n",
       "      <td>48.84</td>\n",
       "      <td>44.21</td>\n",
       "      <td>49.23</td>\n",
       "      <td>49.28</td>\n",
       "      <td>44.49</td>\n",
       "      <td>49.21</td>\n",
       "      <td>49.19</td>\n",
       "      <td>0.0474</td>\n",
       "    </tr>\n",
       "    <tr>\n",
       "      <th>9</th>\n",
       "      <td>140</td>\n",
       "      <td>56.65</td>\n",
       "      <td>51.92</td>\n",
       "      <td>57.04</td>\n",
       "      <td>57.10</td>\n",
       "      <td>52.08</td>\n",
       "      <td>57.03</td>\n",
       "      <td>57.00</td>\n",
       "      <td>0.0516</td>\n",
       "    </tr>\n",
       "    <tr>\n",
       "      <th>10</th>\n",
       "      <td>150</td>\n",
       "      <td>64.75</td>\n",
       "      <td>59.98</td>\n",
       "      <td>65.13</td>\n",
       "      <td>65.19</td>\n",
       "      <td>60.05</td>\n",
       "      <td>65.14</td>\n",
       "      <td>65.08</td>\n",
       "      <td>0.0556</td>\n",
       "    </tr>\n",
       "  </tbody>\n",
       "</table>\n",
       "</div>"
      ],
      "text/plain": [
       "      F  Beisser  Gentle     Ju   Levy  MP-RG  MP-4M  MC-CV  StdDev\n",
       "0    50     4.16    3.00   4.34   4.34   3.93   4.33   4.34  0.0141\n",
       "1    60     7.27    5.53   7.51   7.52   6.56   7.50   7.50  0.0185\n",
       "2    70    11.26    8.91  11.55  11.57   9.95  11.53  11.53  0.0227\n",
       "3    80    16.04   13.13  16.37  16.40  14.10  16.34  16.35  0.0268\n",
       "4    90    21.53   18.11  21.89  21.92  18.97  21.86  21.86  0.0309\n",
       "5   100    27.63   23.78  28.01  28.05  24.50  27.98  27.98  0.0350\n",
       "6   110    34.27   30.08  34.66  34.70  30.63  34.63  34.63  0.0391\n",
       "7   120    41.36   36.91  41.75  41.80  37.32  41.73  41.71  0.0433\n",
       "8   130    48.84   44.21  49.23  49.28  44.49  49.21  49.19  0.0474\n",
       "9   140    56.65   51.92  57.04  57.10  52.08  57.03  57.00  0.0516\n",
       "10  150    64.75   59.98  65.13  65.19  60.05  65.14  65.08  0.0556"
      ]
     },
     "execution_count": 14,
     "metadata": {},
     "output_type": "execute_result"
    }
   ],
   "source": [
    "df = pd.read_excel(file, sheet_name='3')\n",
    "df"
   ]
  },
  {
   "cell_type": "code",
   "execution_count": 15,
   "metadata": {},
   "outputs": [
    {
     "data": {
      "text/plain": [
       "(array([ 4.16,  7.27, 11.26, 16.04, 21.53, 27.63, 34.27, 41.36, 48.84,\n",
       "        56.65, 64.75]),\n",
       " array([0., 0., 0., 0., 0., 0., 0., 0., 0., 0., 0.]))"
      ]
     },
     "execution_count": 15,
     "metadata": {},
     "output_type": "execute_result"
    }
   ],
   "source": [
    "spot = np.arange(50., 151., 10)[:,None]*np.ones(4)\n",
    "result = np.zeros_like(spot[:, 0], dtype=float)\n",
    "for i in range(len(spot[:, 0])):\n",
    "    m = pf.BsmBasketLowerBound(sigma=sigma, cor = 0.5)\n",
    "    result[i] = m.price(100, spot[i], texp)\n",
    "np.round(result, 2), np.round(result, 2) - df['Beisser'].values"
   ]
  },
  {
   "cell_type": "code",
   "execution_count": 16,
   "metadata": {},
   "outputs": [
    {
     "data": {
      "text/plain": [
       "(array([ 4.34,  7.52, 11.57, 16.4 , 21.92, 28.05, 34.7 , 41.8 , 49.28,\n",
       "        57.1 , 65.19]),\n",
       " array([0., 0., 0., 0., 0., 0., 0., 0., 0., 0., 0.]))"
      ]
     },
     "execution_count": 16,
     "metadata": {},
     "output_type": "execute_result"
    }
   ],
   "source": [
    "spot = np.arange(50, 151, 10)[:,None]*np.ones(4)\n",
    "m = pf.BsmBasketLevy1992(sigma=sigma, cor=0.5)\n",
    "result = m.price(100, spot=spot, texp=texp)\n",
    "np.round(result, 2), np.round(result, 2) - df['Levy'].values"
   ]
  },
  {
   "cell_type": "code",
   "execution_count": 17,
   "metadata": {},
   "outputs": [
    {
     "data": {
      "text/plain": [
       "(array([ 3.93,  6.56,  9.95, 14.1 , 18.97, 24.5 , 30.63, 37.32, 44.49,\n",
       "        52.08, 60.05]),\n",
       " array([0., 0., 0., 0., 0., 0., 0., 0., 0., 0., 0.]))"
      ]
     },
     "execution_count": 17,
     "metadata": {},
     "output_type": "execute_result"
    }
   ],
   "source": [
    "spot = np.arange(50, 151, 10)[:,None]*np.ones(4)\n",
    "m = pf.BsmBasketMilevsky1998(sigma=sigma, cor=0.5)\n",
    "result = m.price(100, spot=spot, texp=texp)\n",
    "np.round(result, 2), np.round(result, 2) - df['MP-RG'].values"
   ]
  },
  {
   "cell_type": "code",
   "execution_count": 18,
   "metadata": {},
   "outputs": [
    {
     "data": {
      "text/plain": [
       "(array([ 4.33,  7.5 , 11.53, 16.34, 21.86, 27.98, 34.63, 41.73, 49.21,\n",
       "        57.03, 65.14]),\n",
       " array([0., 0., 0., 0., 0., 0., 0., 0., 0., 0., 0.]))"
      ]
     },
     "execution_count": 18,
     "metadata": {},
     "output_type": "execute_result"
    }
   ],
   "source": [
    "spot = np.arange(50., 151., 10)[:,None]*np.ones(4)\n",
    "result = np.zeros_like(spot[:, 0], dtype=float)\n",
    "for i in range(len(spot[:, 0])):\n",
    "    m = pf.BsmBasketJsu(sigma=sigma, cor = 0.5)\n",
    "    result[i] = m.price(100, spot[i], texp)\n",
    "np.round(result, 2), np.round(result, 2) - df['MP-4M'].values"
   ]
  },
  {
   "cell_type": "markdown",
   "metadata": {},
   "source": [
    "# Table 4\n",
    "## Changing all volatilities"
   ]
  },
  {
   "cell_type": "code",
   "execution_count": 19,
   "metadata": {},
   "outputs": [
    {
     "data": {
      "text/html": [
       "<div>\n",
       "<style scoped>\n",
       "    .dataframe tbody tr th:only-of-type {\n",
       "        vertical-align: middle;\n",
       "    }\n",
       "\n",
       "    .dataframe tbody tr th {\n",
       "        vertical-align: top;\n",
       "    }\n",
       "\n",
       "    .dataframe thead th {\n",
       "        text-align: right;\n",
       "    }\n",
       "</style>\n",
       "<table border=\"1\" class=\"dataframe\">\n",
       "  <thead>\n",
       "    <tr style=\"text-align: right;\">\n",
       "      <th></th>\n",
       "      <th>Sigma</th>\n",
       "      <th>Beisser</th>\n",
       "      <th>Gentle</th>\n",
       "      <th>Ju</th>\n",
       "      <th>Levy</th>\n",
       "      <th>MP-RG</th>\n",
       "      <th>MP-4M</th>\n",
       "      <th>MC-CV</th>\n",
       "      <th>StdDev</th>\n",
       "      <th>Exact</th>\n",
       "    </tr>\n",
       "  </thead>\n",
       "  <tbody>\n",
       "    <tr>\n",
       "      <th>0</th>\n",
       "      <td>0.05</td>\n",
       "      <td>3.53</td>\n",
       "      <td>3.52</td>\n",
       "      <td>3.53</td>\n",
       "      <td>3.53</td>\n",
       "      <td>3.52</td>\n",
       "      <td>3.53</td>\n",
       "      <td>3.53</td>\n",
       "      <td>0.0014</td>\n",
       "      <td>3.5259</td>\n",
       "    </tr>\n",
       "    <tr>\n",
       "      <th>1</th>\n",
       "      <td>0.10</td>\n",
       "      <td>7.04</td>\n",
       "      <td>6.98</td>\n",
       "      <td>7.05</td>\n",
       "      <td>7.05</td>\n",
       "      <td>6.99</td>\n",
       "      <td>7.05</td>\n",
       "      <td>7.05</td>\n",
       "      <td>0.0042</td>\n",
       "      <td>7.0498</td>\n",
       "    </tr>\n",
       "    <tr>\n",
       "      <th>2</th>\n",
       "      <td>0.15</td>\n",
       "      <td>10.55</td>\n",
       "      <td>10.33</td>\n",
       "      <td>10.57</td>\n",
       "      <td>10.57</td>\n",
       "      <td>10.36</td>\n",
       "      <td>10.57</td>\n",
       "      <td>10.57</td>\n",
       "      <td>0.0073</td>\n",
       "      <td>10.5696</td>\n",
       "    </tr>\n",
       "    <tr>\n",
       "      <th>3</th>\n",
       "      <td>0.20</td>\n",
       "      <td>14.03</td>\n",
       "      <td>13.52</td>\n",
       "      <td>14.08</td>\n",
       "      <td>14.08</td>\n",
       "      <td>13.59</td>\n",
       "      <td>14.08</td>\n",
       "      <td>14.08</td>\n",
       "      <td>0.0115</td>\n",
       "      <td>14.0830</td>\n",
       "    </tr>\n",
       "    <tr>\n",
       "      <th>4</th>\n",
       "      <td>0.30</td>\n",
       "      <td>20.91</td>\n",
       "      <td>19.22</td>\n",
       "      <td>21.08</td>\n",
       "      <td>21.09</td>\n",
       "      <td>19.49</td>\n",
       "      <td>21.07</td>\n",
       "      <td>21.07</td>\n",
       "      <td>0.0237</td>\n",
       "      <td>21.0787</td>\n",
       "    </tr>\n",
       "    <tr>\n",
       "      <th>5</th>\n",
       "      <td>0.40</td>\n",
       "      <td>27.63</td>\n",
       "      <td>23.78</td>\n",
       "      <td>28.01</td>\n",
       "      <td>28.05</td>\n",
       "      <td>24.50</td>\n",
       "      <td>27.98</td>\n",
       "      <td>27.98</td>\n",
       "      <td>0.0350</td>\n",
       "      <td>28.0074</td>\n",
       "    </tr>\n",
       "    <tr>\n",
       "      <th>6</th>\n",
       "      <td>0.50</td>\n",
       "      <td>34.15</td>\n",
       "      <td>27.01</td>\n",
       "      <td>34.84</td>\n",
       "      <td>34.96</td>\n",
       "      <td>28.51</td>\n",
       "      <td>34.73</td>\n",
       "      <td>34.80</td>\n",
       "      <td>0.0448</td>\n",
       "      <td>34.8289</td>\n",
       "    </tr>\n",
       "    <tr>\n",
       "      <th>7</th>\n",
       "      <td>0.60</td>\n",
       "      <td>40.41</td>\n",
       "      <td>28.84</td>\n",
       "      <td>41.52</td>\n",
       "      <td>41.78</td>\n",
       "      <td>31.56</td>\n",
       "      <td>41.19</td>\n",
       "      <td>41.44</td>\n",
       "      <td>0.0327</td>\n",
       "      <td>41.4931</td>\n",
       "    </tr>\n",
       "    <tr>\n",
       "      <th>8</th>\n",
       "      <td>0.70</td>\n",
       "      <td>46.39</td>\n",
       "      <td>29.30</td>\n",
       "      <td>47.97</td>\n",
       "      <td>48.50</td>\n",
       "      <td>33.72</td>\n",
       "      <td>46.23</td>\n",
       "      <td>47.86</td>\n",
       "      <td>0.0490</td>\n",
       "      <td>47.9430</td>\n",
       "    </tr>\n",
       "    <tr>\n",
       "      <th>9</th>\n",
       "      <td>0.80</td>\n",
       "      <td>52.05</td>\n",
       "      <td>28.57</td>\n",
       "      <td>54.09</td>\n",
       "      <td>55.05</td>\n",
       "      <td>35.15</td>\n",
       "      <td>48.39</td>\n",
       "      <td>54.01</td>\n",
       "      <td>0.0685</td>\n",
       "      <td>54.1192</td>\n",
       "    </tr>\n",
       "    <tr>\n",
       "      <th>10</th>\n",
       "      <td>1.00</td>\n",
       "      <td>62.32</td>\n",
       "      <td>24.41</td>\n",
       "      <td>64.93</td>\n",
       "      <td>67.24</td>\n",
       "      <td>36.45</td>\n",
       "      <td>47.90</td>\n",
       "      <td>65.31</td>\n",
       "      <td>0.0996</td>\n",
       "      <td>65.4256</td>\n",
       "    </tr>\n",
       "  </tbody>\n",
       "</table>\n",
       "</div>"
      ],
      "text/plain": [
       "    Sigma  Beisser  Gentle     Ju   Levy  MP-RG  MP-4M  MC-CV  StdDev    Exact\n",
       "0    0.05     3.53    3.52   3.53   3.53   3.52   3.53   3.53  0.0014   3.5259\n",
       "1    0.10     7.04    6.98   7.05   7.05   6.99   7.05   7.05  0.0042   7.0498\n",
       "2    0.15    10.55   10.33  10.57  10.57  10.36  10.57  10.57  0.0073  10.5696\n",
       "3    0.20    14.03   13.52  14.08  14.08  13.59  14.08  14.08  0.0115  14.0830\n",
       "4    0.30    20.91   19.22  21.08  21.09  19.49  21.07  21.07  0.0237  21.0787\n",
       "5    0.40    27.63   23.78  28.01  28.05  24.50  27.98  27.98  0.0350  28.0074\n",
       "6    0.50    34.15   27.01  34.84  34.96  28.51  34.73  34.80  0.0448  34.8289\n",
       "7    0.60    40.41   28.84  41.52  41.78  31.56  41.19  41.44  0.0327  41.4931\n",
       "8    0.70    46.39   29.30  47.97  48.50  33.72  46.23  47.86  0.0490  47.9430\n",
       "9    0.80    52.05   28.57  54.09  55.05  35.15  48.39  54.01  0.0685  54.1192\n",
       "10   1.00    62.32   24.41  64.93  67.24  36.45  47.90  65.31  0.0996  65.4256"
      ]
     },
     "execution_count": 19,
     "metadata": {},
     "output_type": "execute_result"
    }
   ],
   "source": [
    "df = pd.read_excel(file, sheet_name='4')\n",
    "df"
   ]
  },
  {
   "cell_type": "code",
   "execution_count": 20,
   "metadata": {},
   "outputs": [
    {
     "data": {
      "text/plain": [
       "(array([ 3.53,  7.04, 10.55, 14.03, 20.91, 27.63, 34.15, 40.41, 46.39,\n",
       "        52.05, 62.32]),\n",
       " array([0., 0., 0., 0., 0., 0., 0., 0., 0., 0., 0.]))"
      ]
     },
     "execution_count": 20,
     "metadata": {},
     "output_type": "execute_result"
    }
   ],
   "source": [
    "sigmas = np.array([5, 10, 15, 20, 30, 40, 50, 60, 70, 80, 100])/100\n",
    "result = np.zeros_like(sigmas)\n",
    "for k in range(len(sigmas)):\n",
    "    m = pf.BsmBasketLowerBound(sigma=sigmas[k]*o4, cor=0.5)\n",
    "    result[k] = m.price(100, 100*o4, texp)\n",
    "np.round(result, 2), np.round(result, 2) - df['Beisser'].values"
   ]
  },
  {
   "cell_type": "code",
   "execution_count": 21,
   "metadata": {},
   "outputs": [
    {
     "data": {
      "text/plain": [
       "(array([ 3.53,  7.05, 10.57, 14.08, 21.09, 28.05, 34.96, 41.78, 48.5 ,\n",
       "        55.05, 67.24]),\n",
       " array([0., 0., 0., 0., 0., 0., 0., 0., 0., 0., 0.]))"
      ]
     },
     "execution_count": 21,
     "metadata": {},
     "output_type": "execute_result"
    }
   ],
   "source": [
    "sigmas = np.array([5, 10, 15, 20, 30, 40, 50, 60, 70, 80, 100])/100\n",
    "result = np.zeros_like(sigmas)\n",
    "for k in range(len(sigmas)):\n",
    "    m = pf.BsmBasketLevy1992(sigma=sigmas[k]*o4, cor=0.5)\n",
    "    result[k] = m.price(100, 100*o4, texp)\n",
    "np.round(result, 2), np.round(result, 2) - df['Levy'].values"
   ]
  },
  {
   "cell_type": "code",
   "execution_count": 22,
   "metadata": {},
   "outputs": [
    {
     "data": {
      "text/plain": [
       "(array([ 3.52,  6.99, 10.36, 13.59, 19.49, 24.5 , 28.51, 31.56, 33.72,\n",
       "        35.15, 36.45]),\n",
       " array([0., 0., 0., 0., 0., 0., 0., 0., 0., 0., 0.]))"
      ]
     },
     "execution_count": 22,
     "metadata": {},
     "output_type": "execute_result"
    }
   ],
   "source": [
    "sigmas = np.array([5, 10, 15, 20, 30, 40, 50, 60, 70, 80, 100])/100\n",
    "result = np.zeros_like(sigmas)\n",
    "for k in range(len(sigmas)):\n",
    "    m = pf.BsmBasketMilevsky1998(sigma=sigmas[k]*o4, cor=0.5)\n",
    "    result[k] = m.price(100, 100*o4, texp)\n",
    "np.round(result, 2), np.round(result, 2) - df['MP-RG'].values"
   ]
  },
  {
   "cell_type": "code",
   "execution_count": 23,
   "metadata": {},
   "outputs": [
    {
     "data": {
      "text/plain": [
       "(array([ 3.53,  7.05, 10.57, 14.08, 21.07, 27.98, 34.73, 41.19, 46.23,\n",
       "        48.39, 47.9 ]),\n",
       " array([0., 0., 0., 0., 0., 0., 0., 0., 0., 0., 0.]))"
      ]
     },
     "execution_count": 23,
     "metadata": {},
     "output_type": "execute_result"
    }
   ],
   "source": [
    "sigmas = np.array([5, 10, 15, 20, 30, 40, 50, 60, 70, 80, 100])/100\n",
    "result = np.zeros_like(sigmas)\n",
    "for k in range(len(sigmas)):\n",
    "    m = pf.BsmBasketJsu(sigma=sigmas[k]*o4, cor=0.5)\n",
    "    result[k] = m.price(100, 100*o4, texp)\n",
    "np.round(result, 2), np.round(result, 2) - df['MP-4M'].values"
   ]
  },
  {
   "cell_type": "markdown",
   "metadata": {},
   "source": [
    "# Table 5\n",
    "## Changing the other volatilities with (sigma_1=1)"
   ]
  },
  {
   "cell_type": "code",
   "execution_count": 24,
   "metadata": {},
   "outputs": [
    {
     "data": {
      "text/html": [
       "<div>\n",
       "<style scoped>\n",
       "    .dataframe tbody tr th:only-of-type {\n",
       "        vertical-align: middle;\n",
       "    }\n",
       "\n",
       "    .dataframe tbody tr th {\n",
       "        vertical-align: top;\n",
       "    }\n",
       "\n",
       "    .dataframe thead th {\n",
       "        text-align: right;\n",
       "    }\n",
       "</style>\n",
       "<table border=\"1\" class=\"dataframe\">\n",
       "  <thead>\n",
       "    <tr style=\"text-align: right;\">\n",
       "      <th></th>\n",
       "      <th>Sigma</th>\n",
       "      <th>Beisser</th>\n",
       "      <th>Gentle</th>\n",
       "      <th>Ju</th>\n",
       "      <th>Levy</th>\n",
       "      <th>MP-RG</th>\n",
       "      <th>MP-4M</th>\n",
       "      <th>MC-CV</th>\n",
       "      <th>StdDev</th>\n",
       "      <th>Exact</th>\n",
       "    </tr>\n",
       "  </thead>\n",
       "  <tbody>\n",
       "    <tr>\n",
       "      <th>0</th>\n",
       "      <td>0.05</td>\n",
       "      <td>19.45</td>\n",
       "      <td>15.15</td>\n",
       "      <td>35.59</td>\n",
       "      <td>55.56</td>\n",
       "      <td>35.22</td>\n",
       "      <td>18.51</td>\n",
       "      <td>22.65</td>\n",
       "      <td>0.5594</td>\n",
       "      <td>19.4591</td>\n",
       "    </tr>\n",
       "    <tr>\n",
       "      <th>1</th>\n",
       "      <td>0.10</td>\n",
       "      <td>20.84</td>\n",
       "      <td>16.60</td>\n",
       "      <td>36.19</td>\n",
       "      <td>55.52</td>\n",
       "      <td>35.23</td>\n",
       "      <td>18.64</td>\n",
       "      <td>21.30</td>\n",
       "      <td>0.3858</td>\n",
       "      <td>20.9682</td>\n",
       "    </tr>\n",
       "    <tr>\n",
       "      <th>2</th>\n",
       "      <td>0.15</td>\n",
       "      <td>22.60</td>\n",
       "      <td>18.08</td>\n",
       "      <td>36.93</td>\n",
       "      <td>55.61</td>\n",
       "      <td>35.24</td>\n",
       "      <td>18.81</td>\n",
       "      <td>22.94</td>\n",
       "      <td>0.2660</td>\n",
       "      <td>23.0042</td>\n",
       "    </tr>\n",
       "    <tr>\n",
       "      <th>3</th>\n",
       "      <td>0.20</td>\n",
       "      <td>24.69</td>\n",
       "      <td>19.56</td>\n",
       "      <td>37.80</td>\n",
       "      <td>55.71</td>\n",
       "      <td>35.26</td>\n",
       "      <td>19.01</td>\n",
       "      <td>25.24</td>\n",
       "      <td>0.2124</td>\n",
       "      <td>25.3794</td>\n",
       "    </tr>\n",
       "    <tr>\n",
       "      <th>4</th>\n",
       "      <td>0.30</td>\n",
       "      <td>29.52</td>\n",
       "      <td>22.35</td>\n",
       "      <td>39.97</td>\n",
       "      <td>55.98</td>\n",
       "      <td>35.30</td>\n",
       "      <td>19.42</td>\n",
       "      <td>30.95</td>\n",
       "      <td>0.1603</td>\n",
       "      <td>30.6027</td>\n",
       "    </tr>\n",
       "    <tr>\n",
       "      <th>5</th>\n",
       "      <td>0.40</td>\n",
       "      <td>34.72</td>\n",
       "      <td>24.73</td>\n",
       "      <td>42.66</td>\n",
       "      <td>56.35</td>\n",
       "      <td>35.36</td>\n",
       "      <td>20.37</td>\n",
       "      <td>36.89</td>\n",
       "      <td>0.1156</td>\n",
       "      <td>36.0485</td>\n",
       "    </tr>\n",
       "    <tr>\n",
       "      <th>6</th>\n",
       "      <td>0.50</td>\n",
       "      <td>39.96</td>\n",
       "      <td>26.52</td>\n",
       "      <td>45.84</td>\n",
       "      <td>56.89</td>\n",
       "      <td>35.44</td>\n",
       "      <td>20.60</td>\n",
       "      <td>41.72</td>\n",
       "      <td>0.0894</td>\n",
       "      <td>41.4943</td>\n",
       "    </tr>\n",
       "    <tr>\n",
       "      <th>7</th>\n",
       "      <td>0.60</td>\n",
       "      <td>45.05</td>\n",
       "      <td>27.59</td>\n",
       "      <td>49.39</td>\n",
       "      <td>57.68</td>\n",
       "      <td>35.56</td>\n",
       "      <td>21.72</td>\n",
       "      <td>46.68</td>\n",
       "      <td>0.0472</td>\n",
       "      <td>46.8189</td>\n",
       "    </tr>\n",
       "    <tr>\n",
       "      <th>8</th>\n",
       "      <td>0.70</td>\n",
       "      <td>49.88</td>\n",
       "      <td>27.87</td>\n",
       "      <td>53.21</td>\n",
       "      <td>58.87</td>\n",
       "      <td>35.72</td>\n",
       "      <td>23.66</td>\n",
       "      <td>51.78</td>\n",
       "      <td>0.0587</td>\n",
       "      <td>51.9361</td>\n",
       "    </tr>\n",
       "    <tr>\n",
       "      <th>9</th>\n",
       "      <td>0.80</td>\n",
       "      <td>54.39</td>\n",
       "      <td>27.38</td>\n",
       "      <td>57.17</td>\n",
       "      <td>60.70</td>\n",
       "      <td>35.93</td>\n",
       "      <td>27.38</td>\n",
       "      <td>56.61</td>\n",
       "      <td>0.0742</td>\n",
       "      <td>56.7772</td>\n",
       "    </tr>\n",
       "    <tr>\n",
       "      <th>10</th>\n",
       "      <td>1.00</td>\n",
       "      <td>62.32</td>\n",
       "      <td>24.41</td>\n",
       "      <td>64.93</td>\n",
       "      <td>67.24</td>\n",
       "      <td>36.45</td>\n",
       "      <td>47.90</td>\n",
       "      <td>65.31</td>\n",
       "      <td>0.0996</td>\n",
       "      <td>65.4256</td>\n",
       "    </tr>\n",
       "  </tbody>\n",
       "</table>\n",
       "</div>"
      ],
      "text/plain": [
       "    Sigma  Beisser  Gentle     Ju   Levy  MP-RG  MP-4M  MC-CV  StdDev    Exact\n",
       "0    0.05    19.45   15.15  35.59  55.56  35.22  18.51  22.65  0.5594  19.4591\n",
       "1    0.10    20.84   16.60  36.19  55.52  35.23  18.64  21.30  0.3858  20.9682\n",
       "2    0.15    22.60   18.08  36.93  55.61  35.24  18.81  22.94  0.2660  23.0042\n",
       "3    0.20    24.69   19.56  37.80  55.71  35.26  19.01  25.24  0.2124  25.3794\n",
       "4    0.30    29.52   22.35  39.97  55.98  35.30  19.42  30.95  0.1603  30.6027\n",
       "5    0.40    34.72   24.73  42.66  56.35  35.36  20.37  36.89  0.1156  36.0485\n",
       "6    0.50    39.96   26.52  45.84  56.89  35.44  20.60  41.72  0.0894  41.4943\n",
       "7    0.60    45.05   27.59  49.39  57.68  35.56  21.72  46.68  0.0472  46.8189\n",
       "8    0.70    49.88   27.87  53.21  58.87  35.72  23.66  51.78  0.0587  51.9361\n",
       "9    0.80    54.39   27.38  57.17  60.70  35.93  27.38  56.61  0.0742  56.7772\n",
       "10   1.00    62.32   24.41  64.93  67.24  36.45  47.90  65.31  0.0996  65.4256"
      ]
     },
     "execution_count": 24,
     "metadata": {},
     "output_type": "execute_result"
    }
   ],
   "source": [
    "df = pd.read_excel(file, sheet_name='5')\n",
    "df"
   ]
  },
  {
   "cell_type": "code",
   "execution_count": 25,
   "metadata": {},
   "outputs": [
    {
     "data": {
      "text/plain": [
       "(array([19.45, 20.84, 22.6 , 24.69, 29.52, 34.72, 39.96, 45.05, 49.88,\n",
       "        54.39, 62.32]),\n",
       " array([0., 0., 0., 0., 0., 0., 0., 0., 0., 0., 0.]))"
      ]
     },
     "execution_count": 25,
     "metadata": {},
     "output_type": "execute_result"
    }
   ],
   "source": [
    "sigmas = np.array([5, 10, 15, 20, 30, 40, 50, 60, 70, 80, 100])/100\n",
    "result = np.zeros_like(sigmas)\n",
    "for k in range(len(sigmas)):\n",
    "    sigma_asym = np.array([sigmas[k], sigmas[k], sigmas[k], 1])\n",
    "    m = pf.BsmBasketLowerBound(sigma=sigma_asym, cor=0.5)\n",
    "    result[k] = m.price(100, 100*o4, texp)\n",
    "np.round(result, 2), np.round(result, 2) - df['Beisser'].values"
   ]
  },
  {
   "cell_type": "code",
   "execution_count": 26,
   "metadata": {},
   "outputs": [
    {
     "data": {
      "text/plain": [
       "(array([55.46, 55.52, 55.61, 55.71, 55.98, 56.35, 56.89, 57.68, 58.87,\n",
       "        60.7 , 67.24]),\n",
       " array([-0.1,  0. ,  0. ,  0. ,  0. ,  0. ,  0. ,  0. ,  0. ,  0. ,  0. ]))"
      ]
     },
     "execution_count": 26,
     "metadata": {},
     "output_type": "execute_result"
    }
   ],
   "source": [
    "sigmas = np.array([5, 10, 15, 20, 30, 40, 50, 60, 70, 80, 100])/100\n",
    "result = np.zeros_like(sigmas)\n",
    "for k in range(len(sigmas)):\n",
    "    sigma_asym = np.array([sigmas[k], sigmas[k], sigmas[k], 1])\n",
    "    m = pf.BsmBasketLevy1992(sigma=sigma_asym, cor=0.5)\n",
    "    result[k] = m.price(100, 100*o4, texp)\n",
    "np.round(result, 2), np.round(result, 2) - df['Levy'].values"
   ]
  },
  {
   "cell_type": "code",
   "execution_count": 27,
   "metadata": {},
   "outputs": [
    {
     "data": {
      "text/plain": [
       "(array([35.22, 35.23, 35.24, 35.26, 35.3 , 35.36, 35.44, 35.56, 35.72,\n",
       "        35.93, 36.45]),\n",
       " array([0., 0., 0., 0., 0., 0., 0., 0., 0., 0., 0.]))"
      ]
     },
     "execution_count": 27,
     "metadata": {},
     "output_type": "execute_result"
    }
   ],
   "source": [
    "sigmas = np.array([5, 10, 15, 20, 30, 40, 50, 60, 70, 80, 100])/100\n",
    "result = np.zeros_like(sigmas)\n",
    "for k in range(len(sigmas)):\n",
    "    sigma_asym = np.array([sigmas[k], sigmas[k], sigmas[k], 1])\n",
    "    m = pf.BsmBasketMilevsky1998(sigma=sigma_asym, cor=0.5)\n",
    "    result[k] = m.price(100, 100*o4, texp)\n",
    "np.round(result, 2), np.round(result, 2) - df['MP-RG'].values"
   ]
  },
  {
   "cell_type": "code",
   "execution_count": 28,
   "metadata": {},
   "outputs": [
    {
     "data": {
      "text/plain": [
       "(array([18.64, 18.78, 18.92, 19.07, 19.42, 19.9 , 20.6 , 21.72, 23.66,\n",
       "        27.38, 47.9 ]),\n",
       " array([ 0.13,  0.14,  0.11,  0.06,  0.  , -0.47,  0.  ,  0.  ,  0.  ,\n",
       "         0.  ,  0.  ]))"
      ]
     },
     "execution_count": 28,
     "metadata": {},
     "output_type": "execute_result"
    }
   ],
   "source": [
    "sigmas = np.array([5, 10, 15, 20, 30, 40, 50, 60, 70, 80, 100])/100\n",
    "result = np.zeros_like(sigmas)\n",
    "for k in range(len(sigmas)):\n",
    "    sigma_asym = np.array([sigmas[k], sigmas[k], sigmas[k], 1])\n",
    "    m = pf.BsmBasketJsu(sigma=sigma_asym, cor=0.5)\n",
    "    result[k] = m.price(100, 100*o4, texp)\n",
    "np.round(result, 2), np.round(result, 2) - df['MP-4M'].values"
   ]
  },
  {
   "cell_type": "code",
   "execution_count": null,
   "metadata": {},
   "outputs": [],
   "source": []
  }
 ],
 "metadata": {
  "kernelspec": {
   "display_name": "Python 3 (ipykernel)",
   "language": "python",
   "name": "python3"
  },
  "language_info": {
   "codemirror_mode": {
    "name": "ipython",
    "version": 3
   },
   "file_extension": ".py",
   "mimetype": "text/x-python",
   "name": "python",
   "nbconvert_exporter": "python",
   "pygments_lexer": "ipython3",
   "version": "3.8.11"
  }
 },
 "nbformat": 4,
 "nbformat_minor": 4
}
