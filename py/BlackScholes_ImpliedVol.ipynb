{
 "cells": [
  {
   "cell_type": "markdown",
   "metadata": {},
   "source": [
    "# Implied Volatility Demo"
   ]
  },
  {
   "cell_type": "markdown",
   "metadata": {},
   "source": [
    "## Root-finding using Python"
   ]
  },
  {
   "cell_type": "code",
   "execution_count": 1,
   "metadata": {},
   "outputs": [],
   "source": [
    "import numpy as np\n",
    "import scipy.stats as spst\n",
    "import scipy.optimize as spop\n",
    "import matplotlib.pyplot as plt\n",
    "import pyfeng as pf"
   ]
  },
  {
   "cell_type": "code",
   "execution_count": 2,
   "metadata": {},
   "outputs": [],
   "source": [
    "def myFunc(x):\n",
    "    return( x**3 + 2*x - 10 )"
   ]
  },
  {
   "cell_type": "code",
   "execution_count": 3,
   "metadata": {},
   "outputs": [
    {
     "data": {
      "image/png": "[encoded data removed]",
      "text/plain": [
       "<Figure size 432x288 with 1 Axes>"
      ]
     },
     "metadata": {
      "needs_background": "light"
     },
     "output_type": "display_data"
    }
   ],
   "source": [
    "xx = np.arange(-5,5,0.1)\n",
    "plt.plot(xx, myFunc(xx))\n",
    "plt.grid()"
   ]
  },
  {
   "cell_type": "code",
   "execution_count": 4,
   "metadata": {},
   "outputs": [
    {
     "name": "stdout",
     "output_type": "stream",
     "text": [
      "1.8474190378327324 -3.552713678800501e-15\n"
     ]
    }
   ],
   "source": [
    "x = spop.brentq(myFunc, 1, 3)\n",
    "print(x, myFunc(x))"
   ]
  },
  {
   "cell_type": "code",
   "execution_count": 5,
   "metadata": {},
   "outputs": [
    {
     "data": {
      "text/plain": [
       "1.8474190378327324"
      ]
     },
     "execution_count": 5,
     "metadata": {},
     "output_type": "execute_result"
    }
   ],
   "source": [
    "# What if the intervals are not good?\n",
    "spop.brentq(myFunc, 1, 3)"
   ]
  },
  {
   "cell_type": "markdown",
   "metadata": {},
   "source": [
    "##  Lambda"
   ]
  },
  {
   "cell_type": "code",
   "execution_count": 6,
   "metadata": {},
   "outputs": [
    {
     "data": {
      "text/plain": [
       "125"
      ]
     },
     "execution_count": 6,
     "metadata": {},
     "output_type": "execute_result"
    }
   ],
   "source": [
    "# lambda is used for a quick definition of a function\n",
    "g = lambda x: x**3 + 2*x - 10\n",
    "g(5)"
   ]
  },
  {
   "cell_type": "code",
   "execution_count": 7,
   "metadata": {},
   "outputs": [
    {
     "data": {
      "image/png": "[encoded data removed]",
      "text/plain": [
       "<Figure size 432x288 with 1 Axes>"
      ]
     },
     "metadata": {
      "needs_background": "light"
     },
     "output_type": "display_data"
    }
   ],
   "source": [
    "xx = np.arange(-5,5,0.1)\n",
    "plt.plot(xx, g(xx))\n",
    "plt.grid()"
   ]
  },
  {
   "cell_type": "markdown",
   "metadata": {},
   "source": [
    "### Lambda remembers the variables, not the values"
   ]
  },
  {
   "cell_type": "code",
   "execution_count": 8,
   "metadata": {},
   "outputs": [
    {
     "data": {
      "text/plain": [
       "125"
      ]
     },
     "execution_count": 8,
     "metadata": {},
     "output_type": "execute_result"
    }
   ],
   "source": [
    "a = 2\n",
    "y = 10\n",
    "f = lambda x: x**3 + a*x - y\n",
    "f(5)"
   ]
  },
  {
   "cell_type": "code",
   "execution_count": 9,
   "metadata": {},
   "outputs": [
    {
     "data": {
      "text/plain": [
       "130"
      ]
     },
     "execution_count": 9,
     "metadata": {},
     "output_type": "execute_result"
    }
   ],
   "source": [
    "y = 5\n",
    "f(5)"
   ]
  },
  {
   "cell_type": "code",
   "execution_count": 10,
   "metadata": {},
   "outputs": [
    {
     "data": {
      "text/plain": [
       "145"
      ]
     },
     "execution_count": 10,
     "metadata": {},
     "output_type": "execute_result"
    }
   ],
   "source": [
    "a = 5\n",
    "f(5)"
   ]
  },
  {
   "cell_type": "markdown",
   "metadata": {},
   "source": [
    "## Solving Implied Volatility"
   ]
  },
  {
   "cell_type": "code",
   "execution_count": 11,
   "metadata": {},
   "outputs": [],
   "source": [
    "def bsm_option_price(strike, spot, vol, texp, intr=0.0, divr=0.0, cp=1):\n",
    "    vol_std = vol * np.sqrt(texp)\n",
    "    df = np.exp(-texp*intr)\n",
    "    forward = spot / df * np.exp(-texp*divr)\n",
    "    d1 = np.log(forward/strike)/vol_std + 0.5*vol_std\n",
    "    d2 = d1 - vol_std\n",
    "\n",
    "    price = cp*df*(forward * spst.norm.cdf(cp*d1) - strike * spst.norm.cdf(cp*d2))\n",
    "    return price"
   ]
  },
  {
   "cell_type": "code",
   "execution_count": 12,
   "metadata": {},
   "outputs": [
    {
     "name": "stdout",
     "output_type": "stream",
     "text": [
      "2.064019137898846\n"
     ]
    }
   ],
   "source": [
    "strike = 105\n",
    "spot = 100\n",
    "vol = 0.2\n",
    "texp = 0.25\n",
    "\n",
    "price = bsm_option_price(strike, spot, vol, texp)\n",
    "print(price)"
   ]
  },
  {
   "cell_type": "code",
   "execution_count": 13,
   "metadata": {},
   "outputs": [],
   "source": [
    "# We bind all the arguments EXCEPT vol\n",
    "func_impvol = lambda _vol: bsm_option_price(strike, spot, _vol, texp) - price"
   ]
  },
  {
   "cell_type": "code",
   "execution_count": 14,
   "metadata": {},
   "outputs": [
    {
     "name": "stdout",
     "output_type": "stream",
     "text": [
      "20.00%\n"
     ]
    }
   ],
   "source": [
    "# Let's find the implied vol\n",
    "impvol = spop.brentq(func_impvol, 0.0001, 1)\n",
    "print(f'{impvol*100:0.2f}%')"
   ]
  },
  {
   "cell_type": "code",
   "execution_count": 15,
   "metadata": {},
   "outputs": [
    {
     "name": "stdout",
     "output_type": "stream",
     "text": [
      "30.27%\n"
     ]
    }
   ],
   "source": [
    "# For different price\n",
    "price = 4\n",
    "impvol = spop.brentq(func_impvol, 0.0001, 1)\n",
    "print(f'{impvol*100:0.2f}%')"
   ]
  },
  {
   "cell_type": "markdown",
   "metadata": {},
   "source": [
    "### Class version"
   ]
  },
  {
   "cell_type": "code",
   "execution_count": 16,
   "metadata": {},
   "outputs": [],
   "source": [
    "class BsmModel:\n",
    "    vol, intr, divr = None, None, None\n",
    "\n",
    "    def __init__(self, vol, intr=0.0, divr=0.0): # Constructor\n",
    "        self.set_params(vol, intr, divr)\n",
    "\n",
    "    def set_params(self, vol=None, intr=None, divr=None):\n",
    "        self.vol = vol if(vol != None) else self.vol\n",
    "        self.intr = intr if(intr != None) else self.intr\n",
    "        self.divr = divr if(divr != None) else self.divr\n",
    "\n",
    "    def price(self, strike, spot, texp, cp=1):\n",
    "        return bsm_option_price(strike, spot, self.vol, texp, intr=self.intr, divr=self.divr, cp=1)\n",
    "\n",
    "    def impvol(self, price, strike, spot, texp, cp=1, setval=False):\n",
    "        iv_func = lambda _vol: \\\n",
    "            bsm_option_price(strike, spot, _vol, texp, self.intr, self.divr, cp) - price\n",
    "        vol = spop.brentq(iv_func, 0.00001, 10)\n",
    "        if setval:\n",
    "            self.vol = vol \n",
    "        return vol"
   ]
  },
  {
   "cell_type": "code",
   "execution_count": 17,
   "metadata": {},
   "outputs": [
    {
     "data": {
      "text/plain": [
       "3.1062836665495652"
      ]
     },
     "execution_count": 17,
     "metadata": {},
     "output_type": "execute_result"
    }
   ],
   "source": [
    "bsm3 = BsmModel(vol=0.2)\n",
    "price = bsm3.price(strike=102, spot=100, texp=0.25, cp=1)\n",
    "price"
   ]
  },
  {
   "cell_type": "code",
   "execution_count": 18,
   "metadata": {},
   "outputs": [
    {
     "data": {
      "text/plain": [
       "0.24514821754427854"
      ]
     },
     "execution_count": 18,
     "metadata": {},
     "output_type": "execute_result"
    }
   ],
   "source": [
    "bsm3.impvol(4, strike=102, spot=100, texp=0.25)"
   ]
  },
  {
   "cell_type": "code",
   "execution_count": null,
   "metadata": {},
   "outputs": [],
   "source": []
  },
  {
   "cell_type": "code",
   "execution_count": 19,
   "metadata": {},
   "outputs": [
    {
     "name": "stdout",
     "output_type": "stream",
     "text": [
      "27.31% 34.87%\n"
     ]
    }
   ],
   "source": [
    "# Let's assume price1 and price2 are given from market\n",
    "price1 = 10\n",
    "vol1 = bsm3.impvol(price1, strike=102, spot=100, texp=1)\n",
    "price2 = 13\n",
    "vol2 = bsm3.impvol(price2, strike=102, spot=100, texp=1)\n",
    "\n",
    "print(f'{vol1*100:0.2f}% {vol2*100:0.2f}%')"
   ]
  },
  {
   "cell_type": "markdown",
   "metadata": {
    "collapsed": true
   },
   "source": [
    "## Newton's Method\n",
    "* Price is S-shaped curve as a function of volatility\n",
    "* The inflection point is the best starting point"
   ]
  },
  {
   "cell_type": "code",
   "execution_count": 20,
   "metadata": {},
   "outputs": [],
   "source": [
    "sigma = np.arange(0.0001, 7, 0.05)\n",
    "m = pf.Bsm(sigma)"
   ]
  },
  {
   "cell_type": "code",
   "execution_count": 21,
   "metadata": {},
   "outputs": [],
   "source": [
    "texp = 1\n",
    "spot, strike = 100, 50\n",
    "price = m.price(strike, spot, texp)"
   ]
  },
  {
   "cell_type": "code",
   "execution_count": 22,
   "metadata": {},
   "outputs": [
    {
     "name": "stdout",
     "output_type": "stream",
     "text": [
      "1.1774100225154747 63.0484054275244 19.947114020071634\n"
     ]
    }
   ],
   "source": [
    "# inflection point: p''(sigma) = 0\n",
    "sig_inf = np.sqrt(2*np.abs(np.log(strike/spot))/texp)\n",
    "p_inf = pf.Bsm(sig_inf).price(strike, spot, texp)\n",
    "vega = pf.Bsm(sig_inf).vega(strike, spot, texp)\n",
    "print(sig_inf, p_inf, vega)"
   ]
  },
  {
   "cell_type": "code",
   "execution_count": 23,
   "metadata": {},
   "outputs": [
    {
     "data": {
      "image/png": "[encoded data removed]",
      "text/plain": [
       "<Figure size 432x288 with 1 Axes>"
      ]
     },
     "metadata": {
      "needs_background": "light"
     },
     "output_type": "display_data"
    }
   ],
   "source": [
    "plt.plot(sigma, price)\n",
    "plt.scatter(sig_inf, p_inf, color='r')\n",
    "plt.plot(sig_inf + np.arange(-1,2,0.1), p_inf + vega*np.arange(-1,2,0.1), color='r', linestyle='--')\n",
    "plt.xlabel('Sigms ($\\sigma$)', fontsize=16)\n",
    "plt.ylabel('Price', fontsize=16)\n",
    "plt.grid()"
   ]
  },
  {
   "cell_type": "code",
   "execution_count": null,
   "metadata": {},
   "outputs": [],
   "source": []
  },
  {
   "cell_type": "code",
   "execution_count": null,
   "metadata": {},
   "outputs": [],
   "source": []
  }
 ],
 "metadata": {
  "anaconda-cloud": {},
  "kernelspec": {
   "display_name": "Python 3 (ipykernel)",
   "language": "python",
   "name": "python3"
  },
  "language_info": {
   "codemirror_mode": {
    "name": "ipython",
    "version": 3
   },
   "file_extension": ".py",
   "mimetype": "text/x-python",
   "name": "python",
   "nbconvert_exporter": "python",
   "pygments_lexer": "ipython3",
   "version": "3.8.11"
  }
 },
 "nbformat": 4,
 "nbformat_minor": 1
}
