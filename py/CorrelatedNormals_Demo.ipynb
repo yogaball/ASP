{
 "cells": [
  {
   "cell_type": "markdown",
   "metadata": {},
   "source": [
    "# Correlated (multivariate) normal random variables"
   ]
  },
  {
   "cell_type": "code",
   "execution_count": 1,
   "metadata": {},
   "outputs": [],
   "source": [
    "import numpy as np\n",
    "import scipy.stats as spst\n",
    "import matplotlib.pyplot as plt\n",
    "\n",
    "np.set_printoptions(precision=3)"
   ]
  },
  {
   "cell_type": "markdown",
   "metadata": {},
   "source": [
    "## Two correlated normal random variables"
   ]
  },
  {
   "cell_type": "code",
   "execution_count": 2,
   "metadata": {},
   "outputs": [],
   "source": [
    "xnorm = np.random.normal(size=10000)\n",
    "ynorm = np.random.normal(size=10000)"
   ]
  },
  {
   "cell_type": "code",
   "execution_count": 3,
   "metadata": {},
   "outputs": [
    {
     "data": {
      "text/plain": [
       "array([[ 1.00e+00, -9.33e-04],\n",
       "       [-9.33e-04,  1.00e+00]])"
      ]
     },
     "execution_count": 3,
     "metadata": {},
     "output_type": "execute_result"
    }
   ],
   "source": [
    "np.corrcoef(xnorm, ynorm)"
   ]
  },
  {
   "cell_type": "code",
   "execution_count": 4,
   "metadata": {},
   "outputs": [],
   "source": [
    "rho = 0.75\n",
    "ynorm = rho*xnorm + np.sqrt(1-rho**2)*ynorm"
   ]
  },
  {
   "cell_type": "code",
   "execution_count": 5,
   "metadata": {},
   "outputs": [
    {
     "data": {
      "text/plain": [
       "array([[1.   , 0.753],\n",
       "       [0.753, 1.   ]])"
      ]
     },
     "execution_count": 5,
     "metadata": {},
     "output_type": "execute_result"
    }
   ],
   "source": [
    "np.corrcoef(xnorm, ynorm)"
   ]
  },
  {
   "cell_type": "markdown",
   "metadata": {},
   "source": [
    "## Sigma (std) and correlation matrix"
   ]
  },
  {
   "cell_type": "code",
   "execution_count": 6,
   "metadata": {},
   "outputs": [
    {
     "name": "stdout",
     "output_type": "stream",
     "text": [
      "[2 5 2] \n",
      " [[ 1.   0.7 -0.2]\n",
      " [ 0.7  1.   0.5]\n",
      " [-0.2  0.5  1. ]]\n"
     ]
    }
   ],
   "source": [
    "sig_v = np.array([2, 5, 2])\n",
    "cor_m = np.array([[1, 0.7, -0.2], [0.7, 1, 0.5], [-0.2, 0.5, 1]])\n",
    "print(sig_v, '\\n', cor_m)"
   ]
  },
  {
   "cell_type": "code",
   "execution_count": 7,
   "metadata": {},
   "outputs": [
    {
     "data": {
      "image/png": "[encoded data removed]",
      "text/plain": [
       "<Figure size 288x288 with 1 Axes>"
      ]
     },
     "metadata": {
      "needs_background": "light"
     },
     "output_type": "display_data"
    }
   ],
   "source": [
    "# You can also create random Correlation matrixs\n",
    "\n",
    "n_asset = 5\n",
    "eig_val = np.random.uniform(size=n_asset)\n",
    "eig_val *= n_asset / np.sum(eig_val)\n",
    "# sum of eig_val = n_asset\n",
    "\n",
    "np.random.seed(123456)\n",
    "cor_m2 = spst.random_correlation.rvs(eig_val, tol=1e-8)\n",
    "_ = plt.matshow(cor_m2, cmap=plt.cm.Blues)"
   ]
  },
  {
   "cell_type": "markdown",
   "metadata": {},
   "source": [
    "### Construct Covariance Matrix"
   ]
  },
  {
   "cell_type": "code",
   "execution_count": 8,
   "metadata": {},
   "outputs": [
    {
     "data": {
      "text/plain": [
       "array([[2],\n",
       "       [5],\n",
       "       [2]])"
      ]
     },
     "execution_count": 8,
     "metadata": {},
     "output_type": "execute_result"
    }
   ],
   "source": [
    "sig_v[:,None]"
   ]
  },
  {
   "cell_type": "code",
   "execution_count": 9,
   "metadata": {},
   "outputs": [
    {
     "data": {
      "text/plain": [
       "array([[ 4. ,  7. , -0.8],\n",
       "       [ 7. , 25. ,  5. ],\n",
       "       [-0.8,  5. ,  4. ]])"
      ]
     },
     "execution_count": 9,
     "metadata": {},
     "output_type": "execute_result"
    }
   ],
   "source": [
    "sig_v[:,None] * sig_v * cor_m"
   ]
  },
  {
   "cell_type": "markdown",
   "metadata": {},
   "source": [
    "Covariance and correlation matrices:\n",
    "$$ \\Sigma_{ij} = \\sigma_i R_{ij} \\sigma_j $$"
   ]
  },
  {
   "cell_type": "code",
   "execution_count": 10,
   "metadata": {},
   "outputs": [
    {
     "name": "stdout",
     "output_type": "stream",
     "text": [
      "[[ 4.   7.  -0.8]\n",
      " [ 7.  25.   5. ]\n",
      " [-0.8  5.   4. ]]\n"
     ]
    }
   ],
   "source": [
    "cov_m = sig_v[:,None] * cor_m * sig_v \n",
    "print(cov_m)"
   ]
  },
  {
   "cell_type": "markdown",
   "metadata": {
    "collapsed": true
   },
   "source": [
    "### Cholesky decomposition of covariance matrix"
   ]
  },
  {
   "cell_type": "code",
   "execution_count": 11,
   "metadata": {
    "scrolled": true
   },
   "outputs": [
    {
     "name": "stdout",
     "output_type": "stream",
     "text": [
      "[[ 2.     0.     0.   ]\n",
      " [ 3.5    3.571  0.   ]\n",
      " [-0.4    1.792  0.792]]\n"
     ]
    }
   ],
   "source": [
    "chol_m = np.linalg.cholesky(cov_m)\n",
    "print(chol_m)"
   ]
  },
  {
   "cell_type": "code",
   "execution_count": 12,
   "metadata": {},
   "outputs": [
    {
     "name": "stdout",
     "output_type": "stream",
     "text": [
      "[[ 4.   7.  -0.8]\n",
      " [ 7.  25.   5. ]\n",
      " [-0.8  5.   4. ]] \n",
      "\n",
      "[[0. 0. 0.]\n",
      " [0. 0. 0.]\n",
      " [0. 0. 0.]]\n"
     ]
    }
   ],
   "source": [
    "# Let's verify that L x L^T = Covariance\n",
    "\n",
    "print( chol_m @ chol_m.T, '\\n' )\n",
    "print( chol_m @ chol_m.T - cov_m )"
   ]
  },
  {
   "cell_type": "code",
   "execution_count": 13,
   "metadata": {},
   "outputs": [
    {
     "data": {
      "text/plain": [
       "array([[ 2.719e-01, -4.250e-01,  5.670e-01, ..., -5.622e-01,  1.596e-03,\n",
       "         7.755e-02],\n",
       "       [ 9.897e-01, -1.693e+00,  4.740e-01, ...,  6.823e-01,  4.753e-01,\n",
       "        -1.457e+00],\n",
       "       [ 1.557e+00,  9.918e-01, -1.198e+00, ..., -1.838e+00,  1.876e+00,\n",
       "         4.622e-01]])"
      ]
     },
     "execution_count": 13,
     "metadata": {},
     "output_type": "execute_result"
    }
   ],
   "source": [
    "# Now let's create multivariate normal random variables following the covariance matrix\n",
    "# First, create standard normals (3 x 1000)\n",
    "\n",
    "znorm_m = np.random.normal(size=(3, 1000))\n",
    "znorm_m"
   ]
  },
  {
   "cell_type": "code",
   "execution_count": 14,
   "metadata": {},
   "outputs": [
    {
     "data": {
      "text/plain": [
       "array([[ 1.084,  0.021, -0.   ],\n",
       "       [ 0.021,  1.005, -0.038],\n",
       "       [-0.   , -0.038,  1.045]])"
      ]
     },
     "execution_count": 14,
     "metadata": {},
     "output_type": "execute_result"
    }
   ],
   "source": [
    "np.round(np.cov(znorm_m),3)"
   ]
  },
  {
   "cell_type": "code",
   "execution_count": 15,
   "metadata": {},
   "outputs": [
    {
     "name": "stdout",
     "output_type": "stream",
     "text": [
      "(3, 1000)\n"
     ]
    },
    {
     "data": {
      "text/plain": [
       "array([[ 5.437e-01, -8.499e-01,  1.134e+00, ..., -1.124e+00,  3.192e-03,\n",
       "         1.551e-01],\n",
       "       [ 4.486e+00, -7.531e+00,  3.677e+00, ...,  4.683e-01,  1.703e+00,\n",
       "        -4.931e+00],\n",
       "       [ 2.899e+00, -2.078e+00, -3.264e-01, ..., -7.911e-03,  2.337e+00,\n",
       "        -2.276e+00]])"
      ]
     },
     "execution_count": 15,
     "metadata": {},
     "output_type": "execute_result"
    }
   ],
   "source": [
    "# Then multiply C^T\n",
    "\n",
    "#xnorm_m = znorm_m @ chol_m.transpose()\n",
    "xnorm_m = chol_m @ znorm_m\n",
    "print(xnorm_m.shape)\n",
    "xnorm_m"
   ]
  },
  {
   "cell_type": "code",
   "execution_count": 16,
   "metadata": {
    "scrolled": true
   },
   "outputs": [
    {
     "name": "stdout",
     "output_type": "stream",
     "text": [
      "[[ 4.   7.  -0.8]\n",
      " [ 7.  25.   5. ]\n",
      " [-0.8  5.   4. ]]\n",
      "Cov from sample:\n",
      " [[ 4.335  7.734 -0.793]\n",
      " [ 7.734 26.609  4.908]\n",
      " [-0.793  4.908  3.921]]\n",
      "Error of Cov matrix:\n",
      " [[ 0.335  0.734  0.007]\n",
      " [ 0.734  1.609 -0.092]\n",
      " [ 0.007 -0.092 -0.079]]\n"
     ]
    }
   ],
   "source": [
    "# Let's verify that X = C * Z  follows the covariance\n",
    "print(cov_m)\n",
    "cov_m_sample = np.cov( xnorm_m )\n",
    "print( 'Cov from sample:\\n', cov_m_sample )\n",
    "print( 'Error of Cov matrix:\\n', cov_m_sample - cov_m )"
   ]
  },
  {
   "cell_type": "code",
   "execution_count": 17,
   "metadata": {},
   "outputs": [
    {
     "name": "stdout",
     "output_type": "stream",
     "text": [
      "[[ 1.   0.7 -0.2]\n",
      " [ 0.7  1.   0.5]\n",
      " [-0.2  0.5  1. ]]\n",
      "Corr from sample:\n",
      " [[ 1.     0.72  -0.192]\n",
      " [ 0.72   1.     0.48 ]\n",
      " [-0.192  0.48   1.   ]]\n",
      "Error:\n",
      " [[-2.220e-16  2.010e-02  7.570e-03]\n",
      " [ 2.010e-02  0.000e+00 -1.954e-02]\n",
      " [ 7.570e-03 -1.954e-02  0.000e+00]]\n"
     ]
    }
   ],
   "source": [
    "# also check the correation\n",
    "print(cor_m)\n",
    "cor_m_sample = np.corrcoef( xnorm_m )\n",
    "print( 'Corr from sample:\\n', cor_m_sample )\n",
    "print( 'Error:\\n', cor_m_sample - cor_m )"
   ]
  },
  {
   "cell_type": "markdown",
   "metadata": {
    "collapsed": true
   },
   "source": []
  }
 ],
 "metadata": {
  "anaconda-cloud": {},
  "kernelspec": {
   "display_name": "Python 3 (ipykernel)",
   "language": "python",
   "name": "python3"
  },
  "language_info": {
   "codemirror_mode": {
    "name": "ipython",
    "version": 3
   },
   "file_extension": ".py",
   "mimetype": "text/x-python",
   "name": "python",
   "nbconvert_exporter": "python",
   "pygments_lexer": "ipython3",
   "version": "3.8.11"
  }
 },
 "nbformat": 4,
 "nbformat_minor": 1
}
