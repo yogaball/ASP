{
 "cells": [
  {
   "cell_type": "markdown",
   "metadata": {},
   "source": [
    "# Demo 1: "
   ]
  },
  {
   "cell_type": "code",
   "execution_count": 1,
   "metadata": {},
   "outputs": [],
   "source": [
    "import numpy as np\n",
    "import pandas as pd\n",
    "import matplotlib.pyplot as plt\n",
    "import datetime"
   ]
  },
  {
   "cell_type": "code",
   "execution_count": 2,
   "metadata": {
    "scrolled": true
   },
   "outputs": [
    {
     "data": {
      "text/html": [
       "<div>\n",
       "<style scoped>\n",
       "    .dataframe tbody tr th:only-of-type {\n",
       "        vertical-align: middle;\n",
       "    }\n",
       "\n",
       "    .dataframe tbody tr th {\n",
       "        vertical-align: top;\n",
       "    }\n",
       "\n",
       "    .dataframe thead th {\n",
       "        text-align: right;\n",
       "    }\n",
       "</style>\n",
       "<table border=\"1\" class=\"dataframe\">\n",
       "  <thead>\n",
       "    <tr style=\"text-align: right;\">\n",
       "      <th></th>\n",
       "      <th>s1</th>\n",
       "      <th>s2</th>\n",
       "      <th>s3</th>\n",
       "    </tr>\n",
       "  </thead>\n",
       "  <tbody>\n",
       "    <tr>\n",
       "      <th>0</th>\n",
       "      <td>1</td>\n",
       "      <td>1</td>\n",
       "      <td>1</td>\n",
       "    </tr>\n",
       "    <tr>\n",
       "      <th>1</th>\n",
       "      <td>1</td>\n",
       "      <td>1</td>\n",
       "      <td>0</td>\n",
       "    </tr>\n",
       "    <tr>\n",
       "      <th>2</th>\n",
       "      <td>0</td>\n",
       "      <td>1</td>\n",
       "      <td>1</td>\n",
       "    </tr>\n",
       "    <tr>\n",
       "      <th>3</th>\n",
       "      <td>0</td>\n",
       "      <td>1</td>\n",
       "      <td>1</td>\n",
       "    </tr>\n",
       "    <tr>\n",
       "      <th>4</th>\n",
       "      <td>1</td>\n",
       "      <td>0</td>\n",
       "      <td>1</td>\n",
       "    </tr>\n",
       "    <tr>\n",
       "      <th>5</th>\n",
       "      <td>0</td>\n",
       "      <td>1</td>\n",
       "      <td>1</td>\n",
       "    </tr>\n",
       "    <tr>\n",
       "      <th>6</th>\n",
       "      <td>0</td>\n",
       "      <td>0</td>\n",
       "      <td>1</td>\n",
       "    </tr>\n",
       "    <tr>\n",
       "      <th>7</th>\n",
       "      <td>0</td>\n",
       "      <td>0</td>\n",
       "      <td>1</td>\n",
       "    </tr>\n",
       "    <tr>\n",
       "      <th>8</th>\n",
       "      <td>0</td>\n",
       "      <td>0</td>\n",
       "      <td>1</td>\n",
       "    </tr>\n",
       "    <tr>\n",
       "      <th>9</th>\n",
       "      <td>1</td>\n",
       "      <td>1</td>\n",
       "      <td>1</td>\n",
       "    </tr>\n",
       "  </tbody>\n",
       "</table>\n",
       "</div>"
      ],
      "text/plain": [
       "   s1  s2  s3\n",
       "0   1   1   1\n",
       "1   1   1   0\n",
       "2   0   1   1\n",
       "3   0   1   1\n",
       "4   1   0   1\n",
       "5   0   1   1\n",
       "6   0   0   1\n",
       "7   0   0   1\n",
       "8   0   0   1\n",
       "9   1   1   1"
      ]
     },
     "execution_count": 2,
     "metadata": {},
     "output_type": "execute_result"
    }
   ],
   "source": [
    "data = {'s1':np.random.randint(2,size=10),'s2':np.random.randint(2,size=10),'s3':np.random.randint(2,size=10)}\n",
    "df = pd.DataFrame(data, index=range(10))\n",
    "df2 = df*2>1\n",
    "df"
   ]
  },
  {
   "cell_type": "code",
   "execution_count": 48,
   "metadata": {
    "scrolled": true
   },
   "outputs": [
    {
     "data": {
      "text/html": [
       "<div>\n",
       "<style scoped>\n",
       "    .dataframe tbody tr th:only-of-type {\n",
       "        vertical-align: middle;\n",
       "    }\n",
       "\n",
       "    .dataframe tbody tr th {\n",
       "        vertical-align: top;\n",
       "    }\n",
       "\n",
       "    .dataframe thead th {\n",
       "        text-align: right;\n",
       "    }\n",
       "</style>\n",
       "<table border=\"1\" class=\"dataframe\">\n",
       "  <thead>\n",
       "    <tr style=\"text-align: right;\">\n",
       "      <th></th>\n",
       "      <th>0</th>\n",
       "      <th>1</th>\n",
       "      <th>2</th>\n",
       "      <th>3</th>\n",
       "    </tr>\n",
       "  </thead>\n",
       "  <tbody>\n",
       "    <tr>\n",
       "      <th>0</th>\n",
       "      <td>交易达成日</td>\n",
       "      <td>2021-06-25 00:00:00</td>\n",
       "      <td>起始日</td>\n",
       "      <td>2021-06-25 00:00:00</td>\n",
       "    </tr>\n",
       "    <tr>\n",
       "      <th>1</th>\n",
       "      <td>期末观察日</td>\n",
       "      <td>2023-06-26 00:00:00</td>\n",
       "      <td>结算日</td>\n",
       "      <td>终止日后【3】个营业日内</td>\n",
       "    </tr>\n",
       "    <tr>\n",
       "      <th>2</th>\n",
       "      <td>标的证券</td>\n",
       "      <td>中证500</td>\n",
       "      <td>标的代码</td>\n",
       "      <td>000905.SH</td>\n",
       "    </tr>\n",
       "    <tr>\n",
       "      <th>3</th>\n",
       "      <td>名义本金额（人民币）</td>\n",
       "      <td>50000000</td>\n",
       "      <td>敲出收益率（年化）</td>\n",
       "      <td>0.211</td>\n",
       "    </tr>\n",
       "    <tr>\n",
       "      <th>4</th>\n",
       "      <td>是否年化</td>\n",
       "      <td>非年化</td>\n",
       "      <td>年化天数</td>\n",
       "      <td>365</td>\n",
       "    </tr>\n",
       "    <tr>\n",
       "      <th>5</th>\n",
       "      <td>期初价格（人民币）</td>\n",
       "      <td>6813.41</td>\n",
       "      <td>期末价格（人民币）</td>\n",
       "      <td>【标的证券在期末观察日的收盘价格】</td>\n",
       "    </tr>\n",
       "    <tr>\n",
       "      <th>6</th>\n",
       "      <td>行权价格系数</td>\n",
       "      <td>100</td>\n",
       "      <td>敲入价格系数</td>\n",
       "      <td>0.8</td>\n",
       "    </tr>\n",
       "    <tr>\n",
       "      <th>7</th>\n",
       "      <td>敲出价格系数</td>\n",
       "      <td>1</td>\n",
       "      <td>敲出价格逐级调整系数</td>\n",
       "      <td>0</td>\n",
       "    </tr>\n",
       "    <tr>\n",
       "      <th>8</th>\n",
       "      <td>敲出观察日</td>\n",
       "      <td>T1=</td>\n",
       "      <td>2021/9/24</td>\n",
       "      <td>NaN</td>\n",
       "    </tr>\n",
       "    <tr>\n",
       "      <th>9</th>\n",
       "      <td>NaN</td>\n",
       "      <td>T2=</td>\n",
       "      <td>2021/10/25</td>\n",
       "      <td>NaN</td>\n",
       "    </tr>\n",
       "    <tr>\n",
       "      <th>10</th>\n",
       "      <td>NaN</td>\n",
       "      <td>T3=</td>\n",
       "      <td>2021/11/25</td>\n",
       "      <td>NaN</td>\n",
       "    </tr>\n",
       "    <tr>\n",
       "      <th>11</th>\n",
       "      <td>NaN</td>\n",
       "      <td>T4=</td>\n",
       "      <td>2021/12/24</td>\n",
       "      <td>NaN</td>\n",
       "    </tr>\n",
       "    <tr>\n",
       "      <th>12</th>\n",
       "      <td>NaN</td>\n",
       "      <td>T5=</td>\n",
       "      <td>2022/01/25</td>\n",
       "      <td>NaN</td>\n",
       "    </tr>\n",
       "    <tr>\n",
       "      <th>13</th>\n",
       "      <td>NaN</td>\n",
       "      <td>T6=</td>\n",
       "      <td>2022/02/25</td>\n",
       "      <td>NaN</td>\n",
       "    </tr>\n",
       "    <tr>\n",
       "      <th>14</th>\n",
       "      <td>NaN</td>\n",
       "      <td>T7=</td>\n",
       "      <td>2022/03/25</td>\n",
       "      <td>NaN</td>\n",
       "    </tr>\n",
       "    <tr>\n",
       "      <th>15</th>\n",
       "      <td>NaN</td>\n",
       "      <td>T8=</td>\n",
       "      <td>2022/04/25</td>\n",
       "      <td>NaN</td>\n",
       "    </tr>\n",
       "    <tr>\n",
       "      <th>16</th>\n",
       "      <td>NaN</td>\n",
       "      <td>T9=</td>\n",
       "      <td>2022/05/25</td>\n",
       "      <td>NaN</td>\n",
       "    </tr>\n",
       "    <tr>\n",
       "      <th>17</th>\n",
       "      <td>NaN</td>\n",
       "      <td>T10=</td>\n",
       "      <td>2022/06/24</td>\n",
       "      <td>NaN</td>\n",
       "    </tr>\n",
       "    <tr>\n",
       "      <th>18</th>\n",
       "      <td>NaN</td>\n",
       "      <td>T11=</td>\n",
       "      <td>2022/07/25</td>\n",
       "      <td>NaN</td>\n",
       "    </tr>\n",
       "    <tr>\n",
       "      <th>19</th>\n",
       "      <td>NaN</td>\n",
       "      <td>T12=</td>\n",
       "      <td>2022/08/25</td>\n",
       "      <td>NaN</td>\n",
       "    </tr>\n",
       "    <tr>\n",
       "      <th>20</th>\n",
       "      <td>NaN</td>\n",
       "      <td>T13=</td>\n",
       "      <td>2022/09/26</td>\n",
       "      <td>NaN</td>\n",
       "    </tr>\n",
       "    <tr>\n",
       "      <th>21</th>\n",
       "      <td>NaN</td>\n",
       "      <td>T14=</td>\n",
       "      <td>2022/10/25</td>\n",
       "      <td>NaN</td>\n",
       "    </tr>\n",
       "    <tr>\n",
       "      <th>22</th>\n",
       "      <td>NaN</td>\n",
       "      <td>T15=</td>\n",
       "      <td>2022/11/25</td>\n",
       "      <td>NaN</td>\n",
       "    </tr>\n",
       "    <tr>\n",
       "      <th>23</th>\n",
       "      <td>NaN</td>\n",
       "      <td>T16=</td>\n",
       "      <td>2022/12/26</td>\n",
       "      <td>NaN</td>\n",
       "    </tr>\n",
       "    <tr>\n",
       "      <th>24</th>\n",
       "      <td>NaN</td>\n",
       "      <td>T17=</td>\n",
       "      <td>2023/01/25</td>\n",
       "      <td>NaN</td>\n",
       "    </tr>\n",
       "    <tr>\n",
       "      <th>25</th>\n",
       "      <td>NaN</td>\n",
       "      <td>T18=</td>\n",
       "      <td>2023/02/24</td>\n",
       "      <td>NaN</td>\n",
       "    </tr>\n",
       "    <tr>\n",
       "      <th>26</th>\n",
       "      <td>NaN</td>\n",
       "      <td>T19=</td>\n",
       "      <td>2023/03/24</td>\n",
       "      <td>NaN</td>\n",
       "    </tr>\n",
       "    <tr>\n",
       "      <th>27</th>\n",
       "      <td>NaN</td>\n",
       "      <td>T20=</td>\n",
       "      <td>2023/04/25</td>\n",
       "      <td>NaN</td>\n",
       "    </tr>\n",
       "    <tr>\n",
       "      <th>28</th>\n",
       "      <td>NaN</td>\n",
       "      <td>T21=</td>\n",
       "      <td>2023/05/25</td>\n",
       "      <td>NaN</td>\n",
       "    </tr>\n",
       "    <tr>\n",
       "      <th>29</th>\n",
       "      <td>NaN</td>\n",
       "      <td>T22=</td>\n",
       "      <td>2023/06/26</td>\n",
       "      <td>NaN</td>\n",
       "    </tr>\n",
       "  </tbody>\n",
       "</table>\n",
       "</div>"
      ],
      "text/plain": [
       "             0                    1           2                    3\n",
       "0        交易达成日  2021-06-25 00:00:00         起始日  2021-06-25 00:00:00\n",
       "1        期末观察日  2023-06-26 00:00:00         结算日         终止日后【3】个营业日内\n",
       "2         标的证券                中证500        标的代码            000905.SH\n",
       "3   名义本金额（人民币）             50000000   敲出收益率（年化）                0.211\n",
       "4         是否年化                  非年化        年化天数                  365\n",
       "5    期初价格（人民币）              6813.41   期末价格（人民币）    【标的证券在期末观察日的收盘价格】\n",
       "6       行权价格系数                  100      敲入价格系数                  0.8\n",
       "7       敲出价格系数                    1  敲出价格逐级调整系数                    0\n",
       "8        敲出观察日                  T1=   2021/9/24                  NaN\n",
       "9          NaN                  T2=  2021/10/25                  NaN\n",
       "10         NaN                  T3=  2021/11/25                  NaN\n",
       "11         NaN                  T4=  2021/12/24                  NaN\n",
       "12         NaN                  T5=  2022/01/25                  NaN\n",
       "13         NaN                  T6=  2022/02/25                  NaN\n",
       "14         NaN                  T7=  2022/03/25                  NaN\n",
       "15         NaN                  T8=  2022/04/25                  NaN\n",
       "16         NaN                  T9=  2022/05/25                  NaN\n",
       "17         NaN                 T10=  2022/06/24                  NaN\n",
       "18         NaN                 T11=  2022/07/25                  NaN\n",
       "19         NaN                 T12=  2022/08/25                  NaN\n",
       "20         NaN                 T13=  2022/09/26                  NaN\n",
       "21         NaN                 T14=  2022/10/25                  NaN\n",
       "22         NaN                 T15=  2022/11/25                  NaN\n",
       "23         NaN                 T16=  2022/12/26                  NaN\n",
       "24         NaN                 T17=  2023/01/25                  NaN\n",
       "25         NaN                 T18=  2023/02/24                  NaN\n",
       "26         NaN                 T19=  2023/03/24                  NaN\n",
       "27         NaN                 T20=  2023/04/25                  NaN\n",
       "28         NaN                 T21=  2023/05/25                  NaN\n",
       "29         NaN                 T22=  2023/06/26                  NaN"
      ]
     },
     "execution_count": 48,
     "metadata": {},
     "output_type": "execute_result"
    }
   ],
   "source": [
    "a = pd.read_excel('D:\\Proj\\Work\\Huaxi\\Derivatives\\snowball_terms.xlsx',header=None)\n",
    "b = pd.read_excel('D:\\Proj\\Work\\Huaxi\\Derivatives\\人工估计的交易日_2年期雪球.xlsx',index_col=0)\n",
    "a"
   ]
  },
  {
   "cell_type": "code",
   "execution_count": 61,
   "metadata": {},
   "outputs": [
    {
     "ename": "TypeError",
     "evalue": "'method' object is not subscriptable",
     "output_type": "error",
     "traceback": [
      "\u001b[1;31m---------------------------------------------------------------------------\u001b[0m",
      "\u001b[1;31mTypeError\u001b[0m                                 Traceback (most recent call last)",
      "\u001b[1;32m<ipython-input-61-87264d2c72be>\u001b[0m in \u001b[0;36m<module>\u001b[1;34m\u001b[0m\n\u001b[1;32m----> 1\u001b[1;33m \u001b[0ma\u001b[0m\u001b[1;33m.\u001b[0m\u001b[0mdrop\u001b[0m\u001b[1;33m[\u001b[0m\u001b[1;36m3\u001b[0m\u001b[1;33m]\u001b[0m\u001b[1;33m\u001b[0m\u001b[1;33m\u001b[0m\u001b[0m\n\u001b[0m",
      "\u001b[1;31mTypeError\u001b[0m: 'method' object is not subscriptable"
     ]
    }
   ],
   "source": [
    "a.drop"
   ]
  },
  {
   "cell_type": "code",
   "execution_count": 52,
   "metadata": {},
   "outputs": [
    {
     "data": {
      "text/plain": [
       "Timestamp('2021-06-25 00:00:00')"
      ]
     },
     "execution_count": 52,
     "metadata": {},
     "output_type": "execute_result"
    }
   ],
   "source": [
    "c = b.copy()\n",
    "start = pd.to_datetime(a.loc[0, 3])\n",
    "\n",
    "d = c.loc[a.loc[0, 3]:a.loc[1, 1],:]\n",
    "d.index[0]"
   ]
  },
  {
   "cell_type": "code",
   "execution_count": null,
   "metadata": {},
   "outputs": [],
   "source": []
  },
  {
   "cell_type": "markdown",
   "metadata": {},
   "source": [
    "## Compute square root: x = sqrt(y)"
   ]
  },
  {
   "cell_type": "code",
   "execution_count": 64,
   "metadata": {},
   "outputs": [
    {
     "data": {
      "text/plain": [
       "4.47213595499958"
      ]
     },
     "execution_count": 64,
     "metadata": {},
     "output_type": "execute_result"
    }
   ],
   "source": [
    "np.sqrt(20)"
   ]
  },
  {
   "cell_type": "code",
   "execution_count": 65,
   "metadata": {},
   "outputs": [
    {
     "name": "stdout",
     "output_type": "stream",
     "text": [
      "1: 15.5, 10.022774424948338\n",
      "2: 8.717741935483872, 3.2405163604322107\n",
      "3: 6.079500014920474, 0.6022744398688129\n",
      "4: 5.507058168194934, 0.029832593143273023\n",
      "5: 5.477306378956984, 8.080390532239079e-05\n",
      "6: 5.47722557564769, 5.960290039297433e-10\n"
     ]
    }
   ],
   "source": [
    "y = 30\n",
    "x = 1\n",
    "for k in range(1, 20):\n",
    "    x = 0.5*(x + y/x)\n",
    "    err = abs(x - np.sqrt(y))\n",
    "    print(f'{k}: {x}, {err}')\n",
    "    if err < 1e-9:\n",
    "        break"
   ]
  },
  {
   "cell_type": "markdown",
   "metadata": {},
   "source": [
    "## Computer can't distinguish small difference"
   ]
  },
  {
   "cell_type": "code",
   "execution_count": 66,
   "metadata": {},
   "outputs": [
    {
     "data": {
      "text/plain": [
       "0.0"
      ]
     },
     "execution_count": 66,
     "metadata": {},
     "output_type": "execute_result"
    }
   ],
   "source": [
    "( 1 + 0.0000000000000001 ) - 1"
   ]
  },
  {
   "cell_type": "code",
   "execution_count": 67,
   "metadata": {},
   "outputs": [
    {
     "name": "stdout",
     "output_type": "stream",
     "text": [
      "2.220446049250313e-16\n"
     ]
    }
   ],
   "source": [
    "epsilon = np.finfo(float).eps\n",
    "print(epsilon)"
   ]
  },
  {
   "cell_type": "code",
   "execution_count": 68,
   "metadata": {},
   "outputs": [
    {
     "data": {
      "text/plain": [
       "1e-100"
      ]
     },
     "execution_count": 68,
     "metadata": {},
     "output_type": "execute_result"
    }
   ],
   "source": [
    "1e-100"
   ]
  },
  {
   "cell_type": "code",
   "execution_count": 69,
   "metadata": {},
   "outputs": [
    {
     "data": {
      "text/plain": [
       "2.220446049250313e-16"
      ]
     },
     "execution_count": 69,
     "metadata": {},
     "output_type": "execute_result"
    }
   ],
   "source": [
    "( 1 + epsilon*0.59) - 1"
   ]
  },
  {
   "cell_type": "code",
   "execution_count": 70,
   "metadata": {},
   "outputs": [],
   "source": [
    "def sqrt_diff_bad(x):\n",
    "    return np.sqrt(x+1)-np.sqrt(x)\n",
    "\n",
    "def sqrt_diff_good(x):\n",
    "    return 1/(np.sqrt(x+1)+np.sqrt(x))"
   ]
  },
  {
   "cell_type": "code",
   "execution_count": 71,
   "metadata": {},
   "outputs": [
    {
     "data": {
      "text/plain": [
       "(0.0, 5e-17)"
      ]
     },
     "execution_count": 71,
     "metadata": {},
     "output_type": "execute_result"
    }
   ],
   "source": [
    "x = 1e32\n",
    "sqrt_diff_bad(x), sqrt_diff_good(x)"
   ]
  },
  {
   "cell_type": "markdown",
   "metadata": {},
   "source": [
    "## Computing Pi (3.141592) using Monte Carlo method "
   ]
  },
  {
   "cell_type": "code",
   "execution_count": 72,
   "metadata": {},
   "outputs": [],
   "source": [
    "n_sample = 1000\n",
    "\n",
    "np.random.seed(1234567)\n",
    "xy = np.random.rand(n_sample,2)"
   ]
  },
  {
   "cell_type": "code",
   "execution_count": 73,
   "metadata": {},
   "outputs": [],
   "source": [
    "is_in_circle = (xy[:,0]**2 + xy[:,1]**2 < 1)"
   ]
  },
  {
   "cell_type": "code",
   "execution_count": 74,
   "metadata": {},
   "outputs": [
    {
     "data": {
      "image/png": "[encoded data removed]",
      "text/plain": [
       "<Figure size 432x288 with 1 Axes>"
      ]
     },
     "metadata": {
      "needs_background": "light"
     },
     "output_type": "display_data"
    }
   ],
   "source": [
    "plt.scatter(xy[:,0], xy[:,1])\n",
    "an = np.linspace(0, 0.5*np.pi, 50)\n",
    "plt.plot(np.cos(an), np.sin(an), color='red')\n",
    "plt.axis('equal')\n",
    "\n",
    "plt.show()"
   ]
  },
  {
   "cell_type": "code",
   "execution_count": 75,
   "metadata": {},
   "outputs": [
    {
     "data": {
      "text/plain": [
       "(3.096, -0.04559265358979303)"
      ]
     },
     "execution_count": 75,
     "metadata": {},
     "output_type": "execute_result"
    }
   ],
   "source": [
    "ratio = sum(is_in_circle) / n_sample\n",
    "ratio*4, ratio*4 - np.pi"
   ]
  },
  {
   "cell_type": "code",
   "execution_count": 76,
   "metadata": {},
   "outputs": [],
   "source": [
    "def computePiMC_Ver1(n_points=1000, m_repeat=100):\n",
    "    vals = np.zeros(m_repeat)\n",
    "    for k in range(0, m_repeat):\n",
    "        xy = np.random.rand(n_points, 2)\n",
    "        is_in_circle = (xy[:,0]**2 + xy[:,1]**2 < 1)\n",
    "        vals[k] = sum(is_in_circle) / n_points * 4.0\n",
    "    \n",
    "    return( [np.mean(vals), np.std(vals)] )"
   ]
  },
  {
   "cell_type": "code",
   "execution_count": 77,
   "metadata": {},
   "outputs": [
    {
     "name": "stdout",
     "output_type": "stream",
     "text": [
      "[3.1438800000000002, 0.056671559004495387]\n",
      "[3.1457999999999995, 0.0347131099154196]\n",
      "[3.14487, 0.027787642937104222]\n"
     ]
    }
   ],
   "source": [
    "np.random.seed(1234567)\n",
    "print( computePiMC_Ver1() )\n",
    "print( computePiMC_Ver1(n_points=2000) )\n",
    "print( computePiMC_Ver1(n_points=4000) )"
   ]
  },
  {
   "cell_type": "code",
   "execution_count": 78,
   "metadata": {},
   "outputs": [],
   "source": [
    "# antithetic method\n",
    "def computePiMC_Ver2(n_points=1000, m_repeat=100):\n",
    "    vals = np.zeros(m_repeat)\n",
    "    for k in range(0, m_repeat):\n",
    "        xy = np.random.rand(n_points//2, 2)\n",
    "        xy = np.vstack((xy, 1-xy))\n",
    "        is_in_circle = (xy[:,0]**2 + xy[:,1]**2 < 1)\n",
    "        vals[k] = sum(is_in_circle) / n_points * 4.0\n",
    "    \n",
    "    return( [np.mean(vals), np.std(vals)] )"
   ]
  },
  {
   "cell_type": "code",
   "execution_count": 79,
   "metadata": {},
   "outputs": [
    {
     "name": "stdout",
     "output_type": "stream",
     "text": [
      "[3.1467200000000006, 0.03861141800037914]\n",
      "[3.1400599999999996, 0.030287231633148677]\n",
      "[3.14218, 0.020381059835052735]\n"
     ]
    }
   ],
   "source": [
    "np.random.seed(1234567)\n",
    "print( computePiMC_Ver2() )\n",
    "print( computePiMC_Ver2(n_points=2000) )\n",
    "print( computePiMC_Ver2(n_points=4000) )"
   ]
  },
  {
   "cell_type": "code",
   "execution_count": 80,
   "metadata": {
    "scrolled": true
   },
   "outputs": [
    {
     "data": {
      "image/png": "[encoded data removed]",
      "text/plain": [
       "<Figure size 432x288 with 1 Axes>"
      ]
     },
     "metadata": {
      "needs_background": "light"
     },
     "output_type": "display_data"
    }
   ],
   "source": [
    "# Computing PI with Monte-Carlo \n",
    "plt.scatter(xy[:,0], xy[:,1])\n",
    "an = np.linspace(0, 1, 50)\n",
    "plt.plot(np.cos(0.5*np.pi*an), np.sin(0.5*np.pi*an), color='red')\n",
    "plt.plot(an, 1-an**2, color='yellow', lw=2)\n",
    "plt.axis('equal')\n",
    "plt.show()"
   ]
  },
  {
   "cell_type": "code",
   "execution_count": 81,
   "metadata": {},
   "outputs": [],
   "source": [
    "def computePiMC_Ver3(n_points=1000, m_repeat=100):\n",
    "    vals = np.zeros(m_repeat)\n",
    "    for k in range(0,m_repeat):\n",
    "        xy = np.random.rand(n_points, 2)\n",
    "        is_in_circle = (xy[:,0]**2 + xy[:,1]**2 < 1)\n",
    "        is_in_parabola = (xy[:,1] + xy[:,0]**2 < 1)\n",
    "\n",
    "        error_control = sum(is_in_parabola) / n_points - 2/3\n",
    "        vals[k] = ( sum(is_in_circle) / n_points - error_control ) * 4.0 \n",
    "    \n",
    "    return( [np.mean(vals), np.std(vals)] )"
   ]
  },
  {
   "cell_type": "code",
   "execution_count": 82,
   "metadata": {},
   "outputs": [
    {
     "name": "stdout",
     "output_type": "stream",
     "text": [
      "[3.1424266666666667, 0.04207353562514089]\n",
      "[3.142986666666667, 0.028728689493257426]\n",
      "[3.145036666666666, 0.02339771570046955]\n"
     ]
    }
   ],
   "source": [
    "# We get slighter better result (i.e., smaller std)\n",
    "print( computePiMC_Ver3() )\n",
    "print( computePiMC_Ver3(n_points=2000) )\n",
    "print( computePiMC_Ver3(n_points=4000) )"
   ]
  },
  {
   "cell_type": "markdown",
   "metadata": {},
   "source": [
    "## Random number generation (How to repeat the same RNs)"
   ]
  },
  {
   "cell_type": "code",
   "execution_count": 83,
   "metadata": {},
   "outputs": [],
   "source": [
    "state = np.random.get_state()\n",
    "#state"
   ]
  },
  {
   "cell_type": "code",
   "execution_count": 84,
   "metadata": {},
   "outputs": [],
   "source": [
    "np.random.set_state(state)\n",
    "#np.random.seed(1234567)"
   ]
  },
  {
   "cell_type": "code",
   "execution_count": 85,
   "metadata": {},
   "outputs": [
    {
     "data": {
      "text/plain": [
       "array([0.23672004, 0.25399825, 0.61438704, 0.73815621, 0.74552974,\n",
       "       0.7446005 , 0.37960404, 0.24990307, 0.17995735, 0.39543405])"
      ]
     },
     "execution_count": 85,
     "metadata": {},
     "output_type": "execute_result"
    }
   ],
   "source": [
    "np.random.rand(10)"
   ]
  },
  {
   "cell_type": "code",
   "execution_count": null,
   "metadata": {},
   "outputs": [],
   "source": []
  }
 ],
 "metadata": {
  "anaconda-cloud": {},
  "kernelspec": {
   "display_name": "Python 3",
   "language": "python",
   "name": "python3"
  },
  "language_info": {
   "codemirror_mode": {
    "name": "ipython",
    "version": 3
   },
   "file_extension": ".py",
   "mimetype": "text/x-python",
   "name": "python",
   "nbconvert_exporter": "python",
   "pygments_lexer": "ipython3",
   "version": "3.8.5"
  },
  "toc": {
   "base_numbering": 1,
   "nav_menu": {},
   "number_sections": true,
   "sideBar": true,
   "skip_h1_title": false,
   "title_cell": "Table of Contents",
   "title_sidebar": "Contents",
   "toc_cell": false,
   "toc_position": {},
   "toc_section_display": true,
   "toc_window_display": false
  }
 },
 "nbformat": 4,
 "nbformat_minor": 1
}
