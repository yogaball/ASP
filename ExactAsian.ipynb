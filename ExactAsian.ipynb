{
 "cells": [
  {
   "cell_type": "markdown",
   "metadata": {},
   "source": [
    "# Spectral Expansions for Asian Options\n",
    "\n",
    "## Distributional properties\n",
    "\n",
    "We assume that  under the risk-neutral probability measure, the underlying asset price follows a geometric Brownian motion process:\n",
    "$$S_t = S_0 e^{\\sigma B_t + (r-q-\\sigma^2 /2)t}$$\n",
    "\n",
    "Let $\\mathscr{A}_t$ be the continuously sampled arithmetic average price:\n",
    "$$\\mathscr{A}_t=\\frac{1}{t}\\int_0^t S_u du$$\n",
    "\n",
    "\n",
    "From the general form of option pricing formula $e^{-rT}\\mathbb{E}[(K-\\mathscr{A}_T)^+]$, make the following derivation:\n",
    "$$\\left(K-\\frac{1}{T}\\int^T_0S_udu\\right)^+=\\frac{4S_0}{\\sigma^2T}\\left(k-\\frac{\\sigma^2}{4S_0}\\int^{\\tau}_0S_0e^{\\sigma B_u+(r-q-\\sigma^2/2)u}d\\left(\\frac{\\sigma^2 u}{4}\\right)\\right)^+\\\\\n",
    "=\\frac{4S_0}{\\sigma^2T}\\left(k-\\int^{\\tau}_0e^{2(B_t+\\nu t)}dt\\right)$$\n",
    "\n",
    "\n",
    "Define *Brownian exponential functional* $A_{\\tau}^{(\\nu)}$:\n",
    "$$A_{\\tau}^{(\\nu)}:=\\int^{\\tau}_0e^{2(B_t+\\nu t)}dt$$\n",
    "\n",
    "\n",
    "From the invariance by time reversal of the distribution of a Levy process, the following process $X_t$ has an identity in law, $X_t \\overset{(law)}{=}A_{t}^{(\\nu)} $:\n",
    "$$X_t = \\int_0^T \\exp{\\left(2(B_t-B_u)+2\\nu (t-u)\\right)}du, X_0=0$$\n",
    "\n",
    "\n",
    "From Ito's fomula, we express the SDE of $X_t$ as:\n",
    "$$dX_t = \\left[2(\\nu+1)X_t+1\\right]+2X_tdB_t$$\n",
    "This $X_t$ is a one-dimensional diffusion process on $[0,\\infty)$ started at $X_0 = 0$ and with the infinitesimal diffusion $a(x)=2x$, infinitesimal drift $b(x)=2(\\nu+1)x+1$, and infinitesimal generator\n",
    "$$\n",
    "\\begin{align}\n",
    "(\\mathscr{G}f)(x)&=\\frac{1}{2}a^2(x)f''(x)+b(x)f'(x)\\\\&=2x^2f''(x)+[2(\\nu+1)+1]f'(x)\n",
    "\\end{align}\n",
    "$$\n",
    "This diffusion has scale and speed densities:\n",
    "$$\\mathscr{s}(x)=\\exp{\\left(-\\int\\frac{2b(x)}{a^2(x)}dx\\right)}=x^{-\\nu-1}e^{1/2x}$$\n",
    "$$\\mathscr{m}(x)=\\frac{2}{a^2(x)\\mathscr{s}(x)}=\\frac{1}{2}x^{\\nu-1}e^{-1/2x}$$\n",
    "\n",
    "In addition, this paper also consider *up-and-out puts* on the diffusion X. For $b>k$, consider functions\n",
    "$$P^{(\\nu)}(k,\\tau):=\\mathbb{E}\\left[(k-X_t)^+\\right],P_b^{(\\nu)}(k,\\tau):=\\mathbb{E}\\left[1_{\\{\\mathscr{T}_b>\\tau\\}}(k-X_\\tau)^+\\right]$$\n",
    "where $\\mathscr{T}_b:=inf{t\\ge0:X_t=b}$ is the first hitting time of $b$ and $1_{\\{\\mathscr{T}_b>\\tau\\}}=1$ if $\\mathscr{T}_b>\\tau$. Their strategy is to first calculate the function $P_b^{(\\nu)}(k,\\tau)$ and then take the limit $b\\uparrow\\infty$ to recover the function $P^{(\\nu)}(k,\\tau)$"
   ]
  },
  {
   "cell_type": "markdown",
   "metadata": {},
   "source": [
    "## Whittaker functions\n",
    "\n",
    "The Whittaker functions are solutions to the ODE\n",
    "$$\\frac{d^2w}{dz^2}+\\left(-\\frac{1}{4}+\\frac{\\kappa}{z}+\\frac{1/4-\\mu^2}{z^2}\\right)w=0$$\n",
    "\n",
    "There are two linearly independent solutions to the ODE:\n",
    "$$M_{\\kappa,\\mu}=\\exp{(-z/2)}z^{\\mu+1/2}M\\left(\\mu-\\kappa+\\frac{1}{2},1+2\\mu;z\\right),$$\n",
    "$$W_{\\kappa,\\mu}=\\exp{(-z/2)}z^{\\mu+1/2}U\\left(\\mu-\\kappa+\\frac{1}{2},1+2\\mu;z\\right)$$\n",
    "where\n",
    "$$M(a,b,z)=\\sum_{k=0}^\\infty\\frac{(a)_k}{(b)_k}\\frac{z^k}{k!}$$\n",
    "$$U(a,b,z)=\\frac{\\pi}{\\sin{b\\pi}}\\left(\\frac{M(a,b,z)}{\\Gamma(1+a-b)\\Gamma(b)}-z^{1-b}\\frac{M(1+a-b,2-b,z)}{\\Gamma(a)\\Gamma(2-b)}\\right)$$"
   ]
  },
  {
   "cell_type": "markdown",
   "metadata": {},
   "source": [
    "## Up-and-out puts price derivation\n",
    "\n",
    "From the last section, $P_b^{(\\nu)}(k,\\tau)$ is what we care the most, we need the following integral to calculate:\n",
    "$$P_b^{(\\nu)}(k,\\tau)=\\int_0^k (k-y)p_b(\\tau;0,y)\\mathscr{m}(y)dy$$\n",
    "where $p_b(t;x,y)$ is the transition probability density w.r.t. the speed measure $\\mathscr{m}(y)dy$ of the infinitesimal generator $(\\mathscr{G}f)(x)$ started at $x\\in[0,b)$ and killed at $b$.\n",
    "\n",
    "This prob density admit a spectral representation\n",
    "$$p_b(t;x,y)=\\sum_{n=1}^\\infty e^{-\\lambda_n \\tau}\\varphi_n(x)\\varphi_n(y)$$\n",
    "where $\\{\\lambda_n,\\varphi_n\\}_{n=1}^\\infty$ are eigenvalues and (normalized) eigenfunctions of the Strum-Liouville problem:\n",
    "$$-(\\mathscr{G}u)(x)\\equiv \\lambda u(x)$$\n",
    "with the boundary conditions at 0 and $b$:\n",
    "$$\\underset{x\\downarrow0}{lim}\\frac{u'(x)}{\\mathscr{s}(x)}=0, u(b)=0$$\n",
    "\n",
    "This linear ODE turns out to be the solution of *Whittaker's form of the confluent hypergeometric equation*, with the solution:\n",
    "$$\\psi(x,\\lambda)=(2x)^{(1-\\nu)/2}e^{1/4x}W_{(1-\\nu)/2,(1/2)\\sqrt{\\nu^2-2\\lambda}}\\left(\\frac{1}{2x}\\right)$$\n",
    "\n",
    "From Theorem 4.1 in Kent (1980), for fixed $x > 0$ the zeros of $\\psi(x,\\lambda)$ are simple and positive, it can be written as a canonical product\n",
    "$$\\psi(x,\\lambda)=\\prod_{n=1}^\\infty\\left(1-\\frac{\\lambda}{\\lambda_{n,x}}\\right)$$\n",
    "by finding root $\\psi(x,\\lambda)=0$, we solve the eigenvalues $\\lambda_n=\\lambda_{n,b}$ as the zeros of $\\psi(b,\\lambda)$. Consider the two cases: $0<\\lambda\\le\\nu^2/2$ and $\\lambda>\\nu^2/2$"
   ]
  },
  {
   "cell_type": "markdown",
   "metadata": {},
   "source": [
    "### Approximation for $0<\\lambda\\le\\nu^2/2$\n",
    "\n",
    "By setting $\\lambda = (\\nu^2-q^2)/2$, we are equivalently solving $q\\in[0,|\\nu|)$. To get precise numerical values of $q_{n,b}$, we need to find the roots of $W_{(1-\\nu)/2,q/2}\\left(\\frac{1}{2x}\\right)$ numerically. However, for large $b$ we can get estimates by using the Whittaker function\n",
    "asymptotics for $\\mu>0$ and $z > 0$:\n",
    "$$W_{\\kappa,\\mu}(z)\\sim\\frac{\\Gamma(2\\mu)}{\\Gamma(1/2+\\mu-\\kappa)}z^{1/2-\\mu}e^{-z/2}$$\n",
    "\n",
    "This gives\n",
    "$$\\psi(b,(\\nu^2-q^2)/2)\\sim\\frac{\\Gamma(q)}{\\Gamma((\\nu+q)/2)}\\left(\\frac{1}{2b}\\right)^{(\\nu-q)/2}$$\n",
    "\n",
    "For $\\nu<0$,  the reciprocal of the gamma function $1/\\Gamma((\\nu+q)/2)$ has zeros $(\\nu+q)/2=-n+1, n = 1,...,[|\\nu|/2+1]$. Thus, for $\\nu < 0$ and *large enough* b, the total number of zeros in $[0,|\\nu|)$ is equal to $N_\\nu(b)=[|\\nu|/2+1]$ and \n",
    "$$q_{n,b}=(|\\nu|-2n+2), n=1,...,[|\\nu|/2+1]$$\n",
    "\n",
    "For $\\nu>0$, $N_\\nu(b)\\equiv0, \\forall b>0$\n",
    "\n",
    "Then the non-normalized eigenfunctions are:\n",
    "$$\\psi(x,\\lambda_{n,b})=(2x)^{(1-\\nu)/2}e^{1/4x}W_{(1-\\nu)/2,q_{n,b}/2}\\left(\\frac{1}{2x}\\right)$$"
   ]
  },
  {
   "cell_type": "markdown",
   "metadata": {},
   "source": [
    "### Approximation for $\\lambda>\\nu^2/2$\n",
    "\n",
    "Setting $\\lambda = (\\nu^2+p^2)/2$. We can obtain estimates that improve with increasing n by using the following estimate of the Whittaker function with purely imaginary second index $\\mu=i\\rho, \\rho >0, \\kappa\\in\\mathbb{R}$ and fixed $z>0$:\n",
    "$$W_{\\kappa,i\\rho}=\\sqrt{2z}e^{\\pi\\rho/2}\\rho^{\\kappa-1/2}\\cos{\\left(\\rho\\ln{\\left(\\frac{z}{4\\rho}\\right)}+\\rho-\\left(\\kappa-\\frac{1}{2}\\right)\\frac{\\pi}{2}\\right)}\\times[1+O(\\rho^{-1})]$$\n",
    "\n",
    "In this case, the root is related to the cosine function, let\n",
    "$$\\frac{p}{2}\\left(-\\ln{(4bp)}+1\\right)+\\frac{1}{4}\\pi\\nu=\\frac{\\pi}{2}+n\\pi $$\n",
    "then the solution of following equation gives the estimate of $p_{n,b}$\n",
    "$$p_{n,b}[\\ln{(4bp_{n,b})}-1]=2\\pi\\left(n+\\frac{\\nu}{4}-\\frac{1}{2}\\right)$$\n",
    "\n",
    "Then the non-normalized eigenfunctions are:\n",
    "$$\\psi(x,\\lambda_{N_\\nu(b)+n,b})=(2x)^{(1-\\nu)/2}e^{1/4x}W_{(1-\\nu)/2,ip_{n,b}/2}\\left(\\frac{1}{2x}\\right)$$"
   ]
  },
  {
   "cell_type": "markdown",
   "metadata": {},
   "source": [
    "### Normalization of the eigenfunctions\n",
    "\n",
    "The normalizing factor is related to the other linearly independent solution to the ODE. By calculating the Wronskian, define\n",
    "$$\\eta_{n,b}^{(\\nu)}:=\\frac{\\partial}{\\partial p}\\left.W_{(1-\\nu)/2,ip_{n,b}/2}\\left(\\frac{1}{2b}\\right)\\right|_{p=p_{n,b}}$$\n",
    "$$\\xi_{n,b}^{(\\nu)}:=-\\frac{\\partial}{\\partial q}\\left.W_{(1-\\nu)/2,q_{n,b}/2}\\left(\\frac{1}{2b}\\right)\\right|_{q=q_{n,b}}$$\n",
    "\n",
    "The norms of the non-normalized eigenfunctions are:\n",
    "\n",
    "For $\\lambda\\le\\nu^2/2,\\nu<0$ and $N_\\nu>0$, the norms are given by:\n",
    "$$\\frac{1}{||\\psi(\\bullet,\\lambda_{n,b})||^2}=2^\\nu q_{n,b}\\frac{\\Gamma(\\tfrac{1}{2}(\\nu+q_{n,b}))}{\\eta_{n,b}^{(\\nu)}\\Gamma(1+q_{n,b})}M_{(1-\\nu)/2,q_{n,b}/2}\\left(\\frac{1}{2b}\\right), n=1,...,N_\\nu(b)$$\n",
    "\n",
    "For $\\lambda\\in(\\nu^2/2,\\infty)$, the norms are given by:\n",
    "$$\\frac{1}{||\\psi(\\bullet,\\lambda_{N_\\nu(b)+n,b})||^2}=2^\\nu p_{n,b}\\frac{\\Gamma(\\tfrac{1}{2}(\\nu+ip_{n,b}))}{\\xi_{n,b}^{(\\nu)}\\Gamma(1+ip_{n,b})}M_{(1-\\nu)/2,ip_{n,b}/2}\\left(\\frac{1}{2b}\\right),n=1,2,...$$\n",
    "\n",
    "### Spectral representation for $P_b^{(\\nu)}(k,\\tau)$\n",
    "\n",
    "The transition probability density takes the form\n",
    "$$p_b(t;x,y)=\\sum_{n=1}^\\infty e^{-t\\lambda_{n,b}}\\frac{\\psi(x,\\lambda_{n,b})\\psi(y,\\lambda_{n,b})}{||\\psi(\\bullet,\\lambda_{n,b})||^2}$$\n",
    "\n",
    "Define $c(\\lambda)$ as\n",
    "$$\n",
    "\\begin{align}\n",
    "c(\\lambda)&=\\int_0^k(k-y)\\psi(y,\\lambda)\\mathscr{m}(y)dy\\\\\n",
    "&=2^{-(1+\\nu)/2}k^{(\\nu+3)/2}e^{-1/4k}W_{-(\\nu+3)/2,\\sqrt(\\nu^2-2\\lambda)/2}\\left(\\frac{1}{2k}\\right)\n",
    "\\end{align}$$\n",
    "\n",
    "Then the transformed payoff $P_b^{(\\nu)}(k,\\tau)$ have the spectral representation:\n",
    "$$P_b^{(\\nu)}(k,\\tau)=\\sum_{n=1}^\\infty e^{-\\tau\\lambda_{n,b}}\\frac{c(\\lambda_{n,b})}{||\\psi(\\bullet,\\lambda_{n,b})||^2}$$\n"
   ]
  },
  {
   "cell_type": "markdown",
   "metadata": {},
   "source": [
    "## Proposition 1\n",
    "\n",
    "The function $P_b^{(\\nu)}(k,\\tau)$ is given by the following series:\n",
    "$$\\begin{align}\n",
    "P_b^{(\\nu)}(k,\\tau)\\\\\n",
    "=&\\sum_{n=1}^\\infty e^{-\\tau(\\nu^2+p^2_{n,b})/2}p_{n,b}\\frac{\\Gamma(\\tfrac{1}{2}(\\nu+ip_{n,b}))}{4\\xi_{n,b}^{(\\nu)}\\Gamma(1+ip_{n,b})}\\\\\n",
    "&\\times(2k)^{(\\nu+3)/2}e^{-1/4k}W_{-(\\nu+3)/2,(ip_{n,b})/2}\\left(\\frac{1}{2k}\\right)M_{(1-\\nu)/2,ip_{n,b}/2}\\left(\\frac{1}{2b}\\right)\\\\\n",
    "&+\\sum_{n=1}^{N_\\nu(b)} e^{-\\tau(\\nu^2-q^2_{n,b})/2}q_{n,b}\\frac{\\Gamma(\\tfrac{1}{2}(\\nu+q_{n,b}))}{4\\eta_{n,b}^{(\\nu)}\\Gamma(1+q_{n,b})}\\\\\n",
    "&\\times(2k)^{(\\nu+3)/2}e^{-1/4k}W_{-(\\nu+3)/2,q_{n,b}/2}\\left(\\frac{1}{2k}\\right)M_{(1-\\nu)/2,q_{n,b}/2}\\left(\\frac{1}{2b}\\right)\n",
    "\\end{align}$$"
   ]
  },
  {
   "cell_type": "code",
   "execution_count": null,
   "metadata": {},
   "outputs": [],
   "source": []
  }
 ],
 "metadata": {
  "kernelspec": {
   "display_name": "Python 3",
   "language": "python",
   "name": "python3"
  },
  "language_info": {
   "codemirror_mode": {
    "name": "ipython",
    "version": 3
   },
   "file_extension": ".py",
   "mimetype": "text/x-python",
   "name": "python",
   "nbconvert_exporter": "python",
   "pygments_lexer": "ipython3",
   "version": "3.8.5"
  },
  "toc": {
   "base_numbering": 1,
   "nav_menu": {},
   "number_sections": true,
   "sideBar": true,
   "skip_h1_title": false,
   "title_cell": "Table of Contents",
   "title_sidebar": "Contents",
   "toc_cell": false,
   "toc_position": {},
   "toc_section_display": true,
   "toc_window_display": false
  }
 },
 "nbformat": 4,
 "nbformat_minor": 4
}
